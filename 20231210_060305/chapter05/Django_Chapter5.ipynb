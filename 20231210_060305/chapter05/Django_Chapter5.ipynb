{
  "nbformat": 4,
  "nbformat_minor": 0,
  "metadata": {
    "colab": {
      "provenance": []
    },
    "kernelspec": {
      "name": "python3",
      "display_name": "Python 3"
    },
    "language_info": {
      "name": "python"
    }
  },
  "cells": [
    {
      "cell_type": "markdown",
      "source": [
        "# Chapter 5 Python, Django, Pandasを用いた気象データ分析結果のWeb公開"
      ],
      "metadata": {
        "id": "DRTpjDLIV7Vj"
      }
    },
    {
      "cell_type": "markdown",
      "source": [
        "## 1. Django Web アプリケーションの作成\n",
        "まずはDjangoの環境を設定します。\n",
        "前 Chapter にならって Django のインストールからアプリケーションの作成まで実施します。"
      ],
      "metadata": {
        "id": "qkN6QpiyWJcN"
      }
    },
    {
      "cell_type": "code",
      "execution_count": null,
      "metadata": {
        "colab": {
          "base_uri": "https://localhost:8080/"
        },
        "id": "rQ-g9DCJAI-h",
        "outputId": "a05d46cd-6c3a-4606-da62-7502680f1235"
      },
      "outputs": [
        {
          "output_type": "stream",
          "name": "stdout",
          "text": [
            "Collecting django\n",
            "  Downloading Django-5.0.1-py3-none-any.whl (8.1 MB)\n",
            "\u001b[2K     \u001b[90m━━━━━━━━━━━━━━━━━━━━━━━━━━━━━━━━━━━━━━━━\u001b[0m \u001b[32m8.1/8.1 MB\u001b[0m \u001b[31m45.8 MB/s\u001b[0m eta \u001b[36m0:00:00\u001b[0m\n",
            "\u001b[?25hCollecting asgiref<4,>=3.7.0 (from django)\n",
            "  Downloading asgiref-3.7.2-py3-none-any.whl (24 kB)\n",
            "Requirement already satisfied: sqlparse>=0.3.1 in /usr/local/lib/python3.10/dist-packages (from django) (0.4.4)\n",
            "Requirement already satisfied: typing-extensions>=4 in /usr/local/lib/python3.10/dist-packages (from asgiref<4,>=3.7.0->django) (4.5.0)\n",
            "Installing collected packages: asgiref, django\n",
            "Successfully installed asgiref-3.7.2 django-5.0.1\n",
            "Requirement already satisfied: pandas in /usr/local/lib/python3.10/dist-packages (1.5.3)\n",
            "Requirement already satisfied: python-dateutil>=2.8.1 in /usr/local/lib/python3.10/dist-packages (from pandas) (2.8.2)\n",
            "Requirement already satisfied: pytz>=2020.1 in /usr/local/lib/python3.10/dist-packages (from pandas) (2023.3.post1)\n",
            "Requirement already satisfied: numpy>=1.21.0 in /usr/local/lib/python3.10/dist-packages (from pandas) (1.23.5)\n",
            "Requirement already satisfied: six>=1.5 in /usr/local/lib/python3.10/dist-packages (from python-dateutil>=2.8.1->pandas) (1.16.0)\n",
            "Collecting openmeteo-requests\n",
            "  Downloading openmeteo_requests-1.1.0-py3-none-any.whl (5.5 kB)\n",
            "Collecting openmeteo-sdk>=1.4.0 (from openmeteo-requests)\n",
            "  Downloading openmeteo_sdk-1.7.2-py3-none-any.whl (12 kB)\n",
            "Requirement already satisfied: requests in /usr/local/lib/python3.10/dist-packages (from openmeteo-requests) (2.31.0)\n",
            "Requirement already satisfied: flatbuffers>=23.0.0 in /usr/local/lib/python3.10/dist-packages (from openmeteo-sdk>=1.4.0->openmeteo-requests) (23.5.26)\n",
            "Requirement already satisfied: charset-normalizer<4,>=2 in /usr/local/lib/python3.10/dist-packages (from requests->openmeteo-requests) (3.3.2)\n",
            "Requirement already satisfied: idna<4,>=2.5 in /usr/local/lib/python3.10/dist-packages (from requests->openmeteo-requests) (3.6)\n",
            "Requirement already satisfied: urllib3<3,>=1.21.1 in /usr/local/lib/python3.10/dist-packages (from requests->openmeteo-requests) (2.0.7)\n",
            "Requirement already satisfied: certifi>=2017.4.17 in /usr/local/lib/python3.10/dist-packages (from requests->openmeteo-requests) (2023.11.17)\n",
            "Installing collected packages: openmeteo-sdk, openmeteo-requests\n",
            "Successfully installed openmeteo-requests-1.1.0 openmeteo-sdk-1.7.2\n",
            "Collecting requests-cache\n",
            "  Downloading requests_cache-1.1.1-py3-none-any.whl (60 kB)\n",
            "\u001b[2K     \u001b[90m━━━━━━━━━━━━━━━━━━━━━━━━━━━━━━━━━━━━━━━━\u001b[0m \u001b[32m60.3/60.3 kB\u001b[0m \u001b[31m1.4 MB/s\u001b[0m eta \u001b[36m0:00:00\u001b[0m\n",
            "\u001b[?25hCollecting retry-requests\n",
            "  Downloading retry_requests-2.0.0-py3-none-any.whl (15 kB)\n",
            "Requirement already satisfied: attrs>=21.2 in /usr/local/lib/python3.10/dist-packages (from requests-cache) (23.2.0)\n",
            "Collecting cattrs>=22.2 (from requests-cache)\n",
            "  Downloading cattrs-23.2.3-py3-none-any.whl (57 kB)\n",
            "\u001b[2K     \u001b[90m━━━━━━━━━━━━━━━━━━━━━━━━━━━━━━━━━━━━━━━━\u001b[0m \u001b[32m57.5/57.5 kB\u001b[0m \u001b[31m6.3 MB/s\u001b[0m eta \u001b[36m0:00:00\u001b[0m\n",
            "\u001b[?25hRequirement already satisfied: platformdirs>=2.5 in /usr/local/lib/python3.10/dist-packages (from requests-cache) (4.1.0)\n",
            "Requirement already satisfied: requests>=2.22 in /usr/local/lib/python3.10/dist-packages (from requests-cache) (2.31.0)\n",
            "Collecting url-normalize>=1.4 (from requests-cache)\n",
            "  Downloading url_normalize-1.4.3-py2.py3-none-any.whl (6.8 kB)\n",
            "Requirement already satisfied: urllib3>=1.25.5 in /usr/local/lib/python3.10/dist-packages (from requests-cache) (2.0.7)\n",
            "Requirement already satisfied: exceptiongroup>=1.1.1 in /usr/local/lib/python3.10/dist-packages (from cattrs>=22.2->requests-cache) (1.2.0)\n",
            "Requirement already satisfied: typing-extensions!=4.6.3,>=4.1.0 in /usr/local/lib/python3.10/dist-packages (from cattrs>=22.2->requests-cache) (4.5.0)\n",
            "Requirement already satisfied: charset-normalizer<4,>=2 in /usr/local/lib/python3.10/dist-packages (from requests>=2.22->requests-cache) (3.3.2)\n",
            "Requirement already satisfied: idna<4,>=2.5 in /usr/local/lib/python3.10/dist-packages (from requests>=2.22->requests-cache) (3.6)\n",
            "Requirement already satisfied: certifi>=2017.4.17 in /usr/local/lib/python3.10/dist-packages (from requests>=2.22->requests-cache) (2023.11.17)\n",
            "Requirement already satisfied: six in /usr/local/lib/python3.10/dist-packages (from url-normalize>=1.4->requests-cache) (1.16.0)\n",
            "Installing collected packages: url-normalize, cattrs, retry-requests, requests-cache\n",
            "Successfully installed cattrs-23.2.3 requests-cache-1.1.1 retry-requests-2.0.0 url-normalize-1.4.3\n",
            "Collecting django-pandas\n",
            "  Downloading django_pandas-0.6.6-py3-none-any.whl (21 kB)\n",
            "Requirement already satisfied: plotly in /usr/local/lib/python3.10/dist-packages (5.15.0)\n",
            "Requirement already satisfied: pandas>=0.14.1 in /usr/local/lib/python3.10/dist-packages (from django-pandas) (1.5.3)\n",
            "Requirement already satisfied: six>=1.15.0 in /usr/local/lib/python3.10/dist-packages (from django-pandas) (1.16.0)\n",
            "Requirement already satisfied: tenacity>=6.2.0 in /usr/local/lib/python3.10/dist-packages (from plotly) (8.2.3)\n",
            "Requirement already satisfied: packaging in /usr/local/lib/python3.10/dist-packages (from plotly) (23.2)\n",
            "Requirement already satisfied: python-dateutil>=2.8.1 in /usr/local/lib/python3.10/dist-packages (from pandas>=0.14.1->django-pandas) (2.8.2)\n",
            "Requirement already satisfied: pytz>=2020.1 in /usr/local/lib/python3.10/dist-packages (from pandas>=0.14.1->django-pandas) (2023.3.post1)\n",
            "Requirement already satisfied: numpy>=1.21.0 in /usr/local/lib/python3.10/dist-packages (from pandas>=0.14.1->django-pandas) (1.23.5)\n",
            "Installing collected packages: django-pandas\n",
            "Successfully installed django-pandas-0.6.6\n",
            "ALLOWED_HOSTS = [\"colab.research.google.com\"]\n"
          ]
        }
      ],
      "source": [
        "# Django のインストール\n",
        "!pip install django\n",
        "\n",
        "# Chapter 3 の内容のデータを取得する。\n",
        "!pip install pandas\n",
        "!pip install openmeteo-requests\n",
        "!pip install requests-cache retry-requests\n",
        "\n",
        "# 描画のために django-pandas と plotly をインストール\n",
        "!pip install django-pandas plotly\n",
        "\n",
        "# Django のプロジェクト作成\n",
        "!django-admin startproject mysite\n",
        "\n",
        "# myapp アプリケーションの作成\n",
        "!cd mysite && python manage.py startapp myapp\n",
        "\n",
        "# Django を GoogleColab 上で動作させるための準備\n",
        "# Django のネットワークを設定する -> colab.research.google.com に設定する\n",
        "# ALLOWED_HOSTS = ['colab.research.google.com']\n",
        "!cd mysite/mysite && sed -i.bak -e 's/\\(ALLOWED_HOSTS\\).*/\\1 = [\"colab\\.research\\.google\\.com\"]/g' settings.py\n",
        "!cd mysite/mysite && grep ALLOWED_HOSTS settings.py"
      ]
    },
    {
      "cell_type": "code",
      "source": [
        "# プロキシの設定\n",
        "from google.colab.output import eval_js\n",
        "print(eval_js(\"google.colab.kernel.proxyPort(8000)\"))\n",
        "\n",
        "# 環境設定\n",
        "import os\n",
        "from pathlib import Path\n",
        "\n",
        "basedir = Path(os.getcwd())\n",
        "appdir = basedir / \"mysite\" / \"myapp\"\n",
        "configdir = basedir / \"mysite\" / \"mysite\""
      ],
      "metadata": {
        "colab": {
          "base_uri": "https://localhost:8080/",
          "height": 34
        },
        "id": "bMYdYyFsAsHt",
        "outputId": "18c524ab-a10c-48b3-d433-1420aacba822"
      },
      "execution_count": null,
      "outputs": [
        {
          "output_type": "stream",
          "name": "stdout",
          "text": [
            "https://g9nx0k02jci-496ff2e9c6d22116-8000-colab.googleusercontent.com/\n"
          ]
        }
      ]
    },
    {
      "cell_type": "markdown",
      "source": [
        "## 2. 描画に必要なモデルを追加する。\n",
        "\n",
        "*   気象データを投入する WeatherData モデルを作成する\n",
        "\n",
        "\n",
        "\n"
      ],
      "metadata": {
        "id": "Zg_HaO1Zi3h9"
      }
    },
    {
      "cell_type": "code",
      "source": [
        "# models.py\n",
        "code = \"\"\"\n",
        "from django.db import models\n",
        "\n",
        "class WeatherData(models.Model):\n",
        "    date = models.DateField()\n",
        "    temperature = models.FloatField()\n",
        "    sunshine_duration = models.FloatField()\n",
        "\"\"\"\n",
        "with open(appdir / \"models.py\", \"w\") as f:\n",
        "  f.write(code)"
      ],
      "metadata": {
        "id": "Xa5HvvALGy94"
      },
      "execution_count": null,
      "outputs": []
    },
    {
      "cell_type": "markdown",
      "source": [
        "## 3. WeatherData モデルをデータベースに反映させる"
      ],
      "metadata": {
        "id": "YlcMKgwBkmTH"
      }
    },
    {
      "cell_type": "code",
      "source": [
        "# settings.py に myapp を追加する\n",
        "!cd mysite/mysite && sed -i.bak \"/INSTALLED_APPS = \\[/a \\    'myapp\\.apps\\.MyappConfig',\" settings.py\n",
        "!cd mysite && python manage.py makemigrations myapp\n",
        "!cd mysite && python manage.py migrate"
      ],
      "metadata": {
        "colab": {
          "base_uri": "https://localhost:8080/"
        },
        "id": "lRcbX2iJmQqn",
        "outputId": "6013746a-cd8f-4b97-9c21-722438dbfddd"
      },
      "execution_count": null,
      "outputs": [
        {
          "output_type": "stream",
          "name": "stdout",
          "text": [
            "\u001b[36;1mMigrations for 'myapp':\u001b[0m\n",
            "  \u001b[1mmyapp/migrations/0001_initial.py\u001b[0m\n",
            "    - Create model WeatherData\n",
            "\u001b[36;1mOperations to perform:\u001b[0m\n",
            "\u001b[1m  Apply all migrations: \u001b[0madmin, auth, contenttypes, myapp, sessions\n",
            "\u001b[36;1mRunning migrations:\u001b[0m\n",
            "  Applying contenttypes.0001_initial...\u001b[32;1m OK\u001b[0m\n",
            "  Applying auth.0001_initial...\u001b[32;1m OK\u001b[0m\n",
            "  Applying admin.0001_initial...\u001b[32;1m OK\u001b[0m\n",
            "  Applying admin.0002_logentry_remove_auto_add...\u001b[32;1m OK\u001b[0m\n",
            "  Applying admin.0003_logentry_add_action_flag_choices...\u001b[32;1m OK\u001b[0m\n",
            "  Applying contenttypes.0002_remove_content_type_name...\u001b[32;1m OK\u001b[0m\n",
            "  Applying auth.0002_alter_permission_name_max_length...\u001b[32;1m OK\u001b[0m\n",
            "  Applying auth.0003_alter_user_email_max_length...\u001b[32;1m OK\u001b[0m\n",
            "  Applying auth.0004_alter_user_username_opts...\u001b[32;1m OK\u001b[0m\n",
            "  Applying auth.0005_alter_user_last_login_null...\u001b[32;1m OK\u001b[0m\n",
            "  Applying auth.0006_require_contenttypes_0002...\u001b[32;1m OK\u001b[0m\n",
            "  Applying auth.0007_alter_validators_add_error_messages...\u001b[32;1m OK\u001b[0m\n",
            "  Applying auth.0008_alter_user_username_max_length...\u001b[32;1m OK\u001b[0m\n",
            "  Applying auth.0009_alter_user_last_name_max_length...\u001b[32;1m OK\u001b[0m\n",
            "  Applying auth.0010_alter_group_name_max_length...\u001b[32;1m OK\u001b[0m\n",
            "  Applying auth.0011_update_proxy_permissions...\u001b[32;1m OK\u001b[0m\n",
            "  Applying auth.0012_alter_user_first_name_max_length...\u001b[32;1m OK\u001b[0m\n",
            "  Applying myapp.0001_initial...\u001b[32;1m OK\u001b[0m\n",
            "  Applying sessions.0001_initial...\u001b[32;1m OK\u001b[0m\n"
          ]
        }
      ]
    },
    {
      "cell_type": "markdown",
      "source": [
        "## 4. Chapter 3 の内容にならいお天気のデータを取得し csv へ変換する。"
      ],
      "metadata": {
        "id": "fI2zYyClkxZe"
      }
    },
    {
      "cell_type": "code",
      "source": [
        "# Setup the Open-Meteo API client with cache and retry on error\n",
        "import openmeteo_requests\n",
        "import requests_cache\n",
        "from retry_requests import retry\n",
        "import pandas as pd\n",
        "\n",
        "cache_session = requests_cache.CachedSession('.cache', expire_after = -1)\n",
        "retry_session = retry(cache_session, retries = 5, backoff_factor = 0.2)\n",
        "openmeteo = openmeteo_requests.Client(session = retry_session)\n",
        "\n",
        "# Make sure all required weather variables are listed here\n",
        "# The order of variables in hourly or daily is important to assign them correctly below\n",
        "url = \"https://archive-api.open-meteo.com/v1/archive\"\n",
        "params = {\n",
        "\t\"latitude\": 35.66712,\n",
        "\t\"longitude\": 138.57361870057653,\n",
        "\t\"start_date\": \"1973-01-02\",\n",
        "\t\"end_date\": \"2023-12-31\",\n",
        "\t\"daily\": [\"weather_code\", \"temperature_2m_max\", \"temperature_2m_min\", \"temperature_2m_mean\", \"apparent_temperature_max\", \"apparent_temperature_min\", \"apparent_temperature_mean\", \"sunrise\", \"sunset\", \"daylight_duration\", \"sunshine_duration\", \"wind_speed_10m_max\", \"wind_gusts_10m_max\", \"wind_direction_10m_dominant\", \"shortwave_radiation_sum\"],\n",
        "\t\"timezone\": \"Asia/Tokyo\"\n",
        "}\n",
        "responses = openmeteo.weather_api(url, params=params)\n",
        "\n",
        "# Process first location. Add a for-loop for multiple locations or weather models\n",
        "response = responses[0]\n",
        "print(f\"Coordinates {response.Latitude()}°E {response.Longitude()}°N\")\n",
        "print(f\"Elevation {response.Elevation()} m asl\")\n",
        "print(f\"Timezone {response.Timezone()} {response.TimezoneAbbreviation()}\")\n",
        "print(f\"Timezone difference to GMT+0 {response.UtcOffsetSeconds()} s\")\n",
        "\n",
        "# Process daily data. The order of variables needs to be the same as requested.\n",
        "# Process daily data. The order of variables needs to be the same as requested.\n",
        "daily = response.Daily()\n",
        "daily_weather_code = daily.Variables(0).ValuesAsNumpy()\n",
        "daily_temperature_2m_max = daily.Variables(1).ValuesAsNumpy()\n",
        "daily_temperature_2m_min = daily.Variables(2).ValuesAsNumpy()\n",
        "daily_temperature_2m_mean = daily.Variables(3).ValuesAsNumpy()\n",
        "daily_apparent_temperature_max = daily.Variables(4).ValuesAsNumpy()\n",
        "daily_apparent_temperature_min = daily.Variables(5).ValuesAsNumpy()\n",
        "daily_apparent_temperature_mean = daily.Variables(6).ValuesAsNumpy()\n",
        "daily_sunrise = daily.Variables(7).ValuesAsNumpy()\n",
        "daily_sunset = daily.Variables(8).ValuesAsNumpy()\n",
        "daily_daylight_duration = daily.Variables(9).ValuesAsNumpy()\n",
        "daily_sunshine_duration = daily.Variables(10).ValuesAsNumpy()\n",
        "daily_wind_speed_10m_max = daily.Variables(11).ValuesAsNumpy()\n",
        "daily_wind_gusts_10m_max = daily.Variables(12).ValuesAsNumpy()\n",
        "daily_wind_direction_10m_dominant = daily.Variables(13).ValuesAsNumpy()\n",
        "daily_shortwave_radiation_sum = daily.Variables(14).ValuesAsNumpy()\n",
        "\n",
        "daily_data = {\"date\": pd.date_range(\n",
        "\tstart = pd.to_datetime(daily.Time(), unit = \"s\"),\n",
        "\tend = pd.to_datetime(daily.TimeEnd(), unit = \"s\"),\n",
        "\tfreq = pd.Timedelta(seconds = daily.Interval()),\n",
        "\tinclusive = \"left\"\n",
        ")}\n",
        "daily_data[\"weather_code\"] = daily_weather_code\n",
        "daily_data[\"temperature_2m_max\"] = daily_temperature_2m_max\n",
        "daily_data[\"temperature_2m_min\"] = daily_temperature_2m_min\n",
        "daily_data[\"temperature_2m_mean\"] = daily_temperature_2m_mean\n",
        "daily_data[\"apparent_temperature_max\"] = daily_apparent_temperature_max\n",
        "daily_data[\"apparent_temperature_min\"] = daily_apparent_temperature_min\n",
        "daily_data[\"apparent_temperature_mean\"] = daily_apparent_temperature_mean\n",
        "daily_data[\"sunrise\"] = daily_sunrise\n",
        "daily_data[\"sunset\"] = daily_sunset\n",
        "daily_data[\"daylight_duration\"] = daily_daylight_duration\n",
        "daily_data[\"sunshine_duration\"] = daily_sunshine_duration\n",
        "daily_data[\"wind_speed_10m_max\"] = daily_wind_speed_10m_max\n",
        "daily_data[\"wind_gusts_10m_max\"] = daily_wind_gusts_10m_max\n",
        "daily_data[\"wind_direction_10m_dominant\"] = daily_wind_direction_10m_dominant\n",
        "daily_data[\"shortwave_radiation_sum\"] = daily_shortwave_radiation_sum\n",
        "\n",
        "daily_dataframe = pd.DataFrame(data = daily_data)\n",
        "\n",
        "# date列をDateTime型に変換\n",
        "daily_dataframe['date'] = pd.to_datetime(daily_dataframe['date'])\n",
        "\n",
        "# 年ごとにグループ化して平均を計算\n",
        "yearly_averages = daily_dataframe.groupby(daily_dataframe['date'].dt.year).mean()\n",
        "\n",
        "yearly_averages.to_csv(\"data.csv\")"
      ],
      "metadata": {
        "colab": {
          "base_uri": "https://localhost:8080/"
        },
        "id": "Atov5-8wkCjW",
        "outputId": "7fff6915-71f0-4782-e0ce-6a9ea569222a"
      },
      "execution_count": null,
      "outputs": [
        {
          "output_type": "stream",
          "name": "stdout",
          "text": [
            "Coordinates 35.6766242980957°E 138.53282165527344°N\n",
            "Elevation 280.0 m asl\n",
            "Timezone b'Asia/Tokyo' b'JST'\n",
            "Timezone difference to GMT+0 32400 s\n"
          ]
        },
        {
          "output_type": "stream",
          "name": "stderr",
          "text": [
            "<ipython-input-6-5104afbb297b>:78: FutureWarning: The default value of numeric_only in DataFrameGroupBy.mean is deprecated. In a future version, numeric_only will default to False. Either specify numeric_only or select only columns which should be valid for the function.\n",
            "  yearly_averages = daily_dataframe.groupby(daily_dataframe['date'].dt.year).mean()\n"
          ]
        }
      ]
    },
    {
      "cell_type": "markdown",
      "source": [
        "## 5. データを Django にインポートする"
      ],
      "metadata": {
        "id": "r5NNPeST0Ir2"
      }
    },
    {
      "cell_type": "code",
      "source": [
        "# data.csv から必要なデータのみ取得する\n",
        "df = pd.read_csv(\"data.csv\")\n",
        "df = df[[\"date\", \"temperature_2m_max\", \"sunshine_duration\"]]\n",
        "df = df.rename(columns={\"temperature_2m_max\": \"temperature\"})"
      ],
      "metadata": {
        "id": "5ExAdnwq3ktI"
      },
      "execution_count": null,
      "outputs": []
    },
    {
      "cell_type": "code",
      "source": [
        "# django アプリケーションに必要なデータを投入する\n",
        "import sys\n",
        "import os\n",
        "import django\n",
        "os.environ[\"DJANGO_ALLOW_ASYNC_UNSAFE\"] = \"true\"\n",
        "\n",
        "\n",
        "sys.path.append(str(basedir / \"mysite\"))\n",
        "os.environ.setdefault(\"DJANGO_SETTINGS_MODULE\",\"mysite.settings\")\n",
        "\n",
        "django.setup()\n",
        "\n",
        "from myapp.models import WeatherData\n",
        "from datetime import datetime\n",
        "\n",
        "for i in df.itertuples():\n",
        "  ps = WeatherData(date=datetime(year=i.date, month=1, day=1), temperature=i.temperature, sunshine_duration=i.sunshine_duration)\n",
        "  ps.save()"
      ],
      "metadata": {
        "id": "6fFaSO1h7JYe"
      },
      "execution_count": null,
      "outputs": []
    },
    {
      "cell_type": "markdown",
      "source": [
        "## 6. ビューの作成\n",
        "DjangoでWebページを表示するためのビューを作成します。views.pyを編集します。"
      ],
      "metadata": {
        "id": "hfHynHtgYIpD"
      }
    },
    {
      "cell_type": "markdown",
      "source": [
        "ここで Django Pandas を使い、Django のデータから Pandas のデータフレームへ変更している。\n",
        "\n",
        "**これも Python の強みの一つで必要そうな機能は誰かしらが実装している可能性があります。**\n",
        "\n",
        "※ 自分で何でも作らずに Python のパッケージを探してみるのもいいことです。"
      ],
      "metadata": {
        "id": "mx8xzKKwzcNj"
      }
    },
    {
      "cell_type": "code",
      "source": [
        "\n",
        "\n",
        "# views.py\n",
        "code = \"\"\"\n",
        "from django.shortcuts import render\n",
        "import plotly.graph_objects as go\n",
        "import pandas as pd\n",
        "import plotly.express as px\n",
        "from django_pandas.io import read_frame\n",
        "from .models import WeatherData\n",
        "\n",
        "def index(request):\n",
        "  datas = WeatherData.objects.all()\n",
        "  df = read_frame(\n",
        "    datas,\n",
        "    fieldnames=[\n",
        "      \"date\", \"temperature\", \"sunshine_duration\"\n",
        "    ]\n",
        "  )\n",
        "  temp = px.bar(df, x=\"date\", y=[\"temperature\"], title=\"Temperature (C)\", height=300)\n",
        "  temp_g = weather.to_html(full_html=False, include_plotlyjs=False)\n",
        "\n",
        "  return render(request, \"index.html\", {\"weather\": temp_g})\n",
        "\"\"\"\n",
        "\n",
        "with open(appdir / \"views.py\", \"w\") as f:\n",
        "  f.write(code)"
      ],
      "metadata": {
        "id": "FTOZVtpNGSl0"
      },
      "execution_count": null,
      "outputs": []
    },
    {
      "cell_type": "markdown",
      "source": [
        "## 7. URLのルーティング\n",
        "URLをビューに接続します。urls.pyを編集します。"
      ],
      "metadata": {
        "id": "CjU8ktitY5Jx"
      }
    },
    {
      "cell_type": "code",
      "source": [
        "# urls.py\n",
        "code = \"\"\"\n",
        "from django.urls import path\n",
        "from myapp import views\n",
        "\n",
        "urlpatterns = [\n",
        "    path('', views.index, name='index'),\n",
        "]\n",
        "\"\"\"\n",
        "with open(configdir / \"urls.py\", \"w\") as f:\n",
        "  f.write(code)\n"
      ],
      "metadata": {
        "id": "Cnm1uOmUG4sT"
      },
      "execution_count": null,
      "outputs": []
    },
    {
      "cell_type": "markdown",
      "source": [
        "## 7. テンプレートの作成\n",
        "Webページの見た目を決めるテンプレートを作成します。templatesディレクトリにhtmlファイルを作成します。"
      ],
      "metadata": {
        "id": "C5a-P_hOZBzW"
      }
    },
    {
      "cell_type": "code",
      "source": [
        "# template index.html\n",
        "(appdir / \"templates\").mkdir(exist_ok=True)\n",
        "(appdir / \"templates\" / \"myapp\").mkdir(exist_ok=True)\n",
        "\n",
        "html = \"\"\"\n",
        "<html>\n",
        " <head>\n",
        "   <title>Weather Graph</title>\n",
        "   <script src=\"https://cdn.plot.ly/plotly-latest.min.js\"></script>\n",
        "   <link href=\"https://cdn.jsdelivr.net/npm/bootstrap@5.0.2/dist/css/bootstrap.min.css\" rel=\"stylesheet\" integrity=\"sha384-EVSTQN3/azprG1Anm3QDgpJLIm9Nao0Yz1ztcQTwFspd3yD65VohhpuuCOmLASjC\" crossorigin=\"anonymous\">\n",
        " </head>\n",
        " <body>\n",
        " <div>\n",
        "  <h1>Chapter 5. Python, Django, Pandasを用いた気象データ分析結果のWeb公開</h1>\n",
        " </div>\n",
        "  <div>\n",
        "    {% autoescape off %}\n",
        "\n",
        "    {{ weather }}\n",
        "\n",
        "    {% endautoescape %}\n",
        " </body>\n",
        "</html>\n",
        "\"\"\"\n",
        "\n",
        "with open(appdir / \"templates\" / \"index.html\", \"w\") as f:\n",
        "  f.write(html)"
      ],
      "metadata": {
        "id": "Gsc4iVUlKX7f"
      },
      "execution_count": null,
      "outputs": []
    },
    {
      "cell_type": "markdown",
      "source": [
        "## 8. Djangoサーバーの起動\n",
        "最後にDjangoのサーバーを起動して、Webサイトが正しく動作するか確認します。"
      ],
      "metadata": {
        "id": "hPlFmz4wZvUK"
      }
    },
    {
      "cell_type": "code",
      "source": [
        "# Django サーバーの起動\n",
        "!cd mysite && python manage.py runserver 8000"
      ],
      "metadata": {
        "colab": {
          "base_uri": "https://localhost:8080/"
        },
        "id": "6KUWqlRbZt0X",
        "outputId": "cc946aeb-0cbc-445f-a419-f4f78479faaa"
      },
      "execution_count": null,
      "outputs": [
        {
          "output_type": "stream",
          "name": "stdout",
          "text": [
            "Watching for file changes with StatReloader\n",
            "Performing system checks...\n",
            "\n",
            "System check identified no issues (0 silenced).\n",
            "January 24, 2024 - 10:27:53\n",
            "Django version 5.0.1, using settings 'mysite.settings'\n",
            "Starting development server at http://127.0.0.1:8000/\n",
            "Quit the server with CONTROL-C.\n",
            "\n",
            "[24/Jan/2024 10:27:55] \u001b[m\"GET / HTTP/1.1\" 200 9878\u001b[0m\n",
            "Not Found: /favicon.ico\n",
            "[24/Jan/2024 10:27:55] \u001b[33m\"GET /favicon.ico HTTP/1.1\" 404 2129\u001b[0m\n",
            "[24/Jan/2024 10:28:43] \u001b[m\"GET / HTTP/1.1\" 200 9878\u001b[0m\n",
            "Not Found: /favicon.ico\n",
            "[24/Jan/2024 10:28:43] \u001b[33m\"GET /favicon.ico HTTP/1.1\" 404 2129\u001b[0m\n"
          ]
        }
      ]
    },
    {
      "cell_type": "markdown",
      "source": [
        "# 演習\n",
        "時間に余裕がある方は、以下の課題に取り組んでみましょう。\n",
        "\n",
        "## 演習課題1: 日照時間 (sunshine_duration) のグラフを追加\n",
        "* 目的: 日照時間のグラフを追加する\n",
        "* 手順: views.py に sunshine_duration 用のグラフを追加する。\n",
        " * views.py に sunshine_duration 用のコードを追加する。\n",
        " * index.html にグラフを追加するコードを追加する\n",
        "\n",
        "## 演習課題2: Chapter3 の収穫量のデータも投入する\n",
        "* 目的: 収穫量と比較するため\n",
        "* 手順:\n",
        " * models.py に YieldModel を追加する\n",
        " * YieldModel をデータベースに反映させる\n",
        " * データを投入する\n",
        " * views.py に収穫量用のコードを追加する\n",
        " * index.html にグラフを追加するコードを追加する\n",
        "\n",
        "## 演習課題3: 自由なデータソースを使い自分好みのサイトを作ってみる\n",
        "この後はみなさん好きな環境で実施しましょう。GoogleColab でも問題ないですし、VSCode で環境を作ってしまっても問題ないです。\n",
        "\n"
      ],
      "metadata": {
        "id": "8AgZV9O6BBeS"
      }
    },
    {
      "cell_type": "code",
      "source": [],
      "metadata": {
        "id": "FKM0A6jyCrgq"
      },
      "execution_count": null,
      "outputs": []
    }
  ]
}