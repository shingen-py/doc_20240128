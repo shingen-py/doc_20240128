{
  "nbformat": 4,
  "nbformat_minor": 0,
  "metadata": {
    "colab": {
      "provenance": [],
      "toc_visible": true
    },
    "kernelspec": {
      "name": "python3",
      "display_name": "Python 3"
    },
    "language_info": {
      "name": "python"
    }
  },
  "cells": [
    {
      "cell_type": "markdown",
      "source": [],
      "metadata": {
        "id": "9nPDGmeHB689"
      }
    },
    {
      "cell_type": "markdown",
      "source": [
        "# Chapter 1: Python、Django、Pandasの基本 - データ分析への第一歩\n"
      ],
      "metadata": {
        "id": "4XYwLPL1B8_j"
      }
    },
    {
      "cell_type": "markdown",
      "source": [
        "## Google ColabでのPython環境設定(pandas, Djangoのインストール)\n"
      ],
      "metadata": {
        "id": "Puf6x92xFCiO"
      }
    },
    {
      "cell_type": "markdown",
      "source": [
        "### ステップ1: Google Colabの利用開始\n",
        "1. Googleアカウントにログインします。\n",
        "2. ブラウザで[Google Colab](https://colab.research.google.com/)にアクセスします。\n",
        "3. 「新しいノートブック」をクリックして、新しいColabノートブックを作成します。\n",
        "\n"
      ],
      "metadata": {
        "id": "D3pbD1o5FHa-"
      }
    },
    {
      "cell_type": "markdown",
      "source": [
        "### ステップ2: ライブラリのインストール\n",
        "Google Colabには多くの一般的なPythonライブラリが事前にインストールされていますが、DjangoやPandasなど特定のライブラリは手動でインストールする必要があります。以下はそれらのライブラリをインストールする方法です。"
      ],
      "metadata": {
        "id": "QNleStIPFMOD"
      }
    },
    {
      "cell_type": "code",
      "execution_count": 1,
      "metadata": {
        "colab": {
          "base_uri": "https://localhost:8080/"
        },
        "id": "7_09MnqZB2K9",
        "outputId": "54c449e8-9ccd-4b5d-bd67-c5db306cc0b7"
      },
      "outputs": [
        {
          "output_type": "stream",
          "name": "stdout",
          "text": [
            "Requirement already satisfied: pandas in /usr/local/lib/python3.10/dist-packages (1.5.3)\n",
            "Requirement already satisfied: python-dateutil>=2.8.1 in /usr/local/lib/python3.10/dist-packages (from pandas) (2.8.2)\n",
            "Requirement already satisfied: pytz>=2020.1 in /usr/local/lib/python3.10/dist-packages (from pandas) (2023.3.post1)\n",
            "Requirement already satisfied: numpy>=1.21.0 in /usr/local/lib/python3.10/dist-packages (from pandas) (1.23.5)\n",
            "Requirement already satisfied: six>=1.5 in /usr/local/lib/python3.10/dist-packages (from python-dateutil>=2.8.1->pandas) (1.16.0)\n",
            "Collecting django\n",
            "  Downloading Django-5.0.1-py3-none-any.whl (8.1 MB)\n",
            "\u001b[2K     \u001b[90m━━━━━━━━━━━━━━━━━━━━━━━━━━━━━━━━━━━━━━━━\u001b[0m \u001b[32m8.1/8.1 MB\u001b[0m \u001b[31m15.5 MB/s\u001b[0m eta \u001b[36m0:00:00\u001b[0m\n",
            "\u001b[?25hCollecting asgiref<4,>=3.7.0 (from django)\n",
            "  Downloading asgiref-3.7.2-py3-none-any.whl (24 kB)\n",
            "Requirement already satisfied: sqlparse>=0.3.1 in /usr/local/lib/python3.10/dist-packages (from django) (0.4.4)\n",
            "Requirement already satisfied: typing-extensions>=4 in /usr/local/lib/python3.10/dist-packages (from asgiref<4,>=3.7.0->django) (4.5.0)\n",
            "Installing collected packages: asgiref, django\n",
            "Successfully installed asgiref-3.7.2 django-5.0.1\n"
          ]
        }
      ],
      "source": [
        "# Pandasのインストール（通常は事前にインストールされていますが、最新版を使用する場合）\n",
        "!pip install pandas\n",
        "\n",
        "# Djangoのインストール\n",
        "!pip install django"
      ]
    },
    {
      "cell_type": "markdown",
      "source": [
        "\n",
        "これらのコマンドをGoogle Colabのセルに入力し、実行することでライブラリがインストールされます。\n",
        "\n",
        "### ステップ3: ライブラリのインポートと確認\n",
        "インストールしたライブラリが正しく機能するか確認するために、以下のようにインポートしてバージョンを確認します。"
      ],
      "metadata": {
        "id": "EGJHIT46D7AP"
      }
    },
    {
      "cell_type": "code",
      "source": [
        "# Pandasのインポートとバージョン確認\n",
        "import pandas as pd\n",
        "print(pd.__version__)\n",
        "\n",
        "# Djangoのバージョン確認\n",
        "!django-admin --version"
      ],
      "metadata": {
        "colab": {
          "base_uri": "https://localhost:8080/"
        },
        "id": "Jog2UMaLEAi7",
        "outputId": "20a4d07a-6eaa-4944-af9a-83f04c246fe7"
      },
      "execution_count": 2,
      "outputs": [
        {
          "output_type": "stream",
          "name": "stdout",
          "text": [
            "1.5.3\n",
            "5.0.1\n"
          ]
        }
      ]
    },
    {
      "cell_type": "markdown",
      "source": [
        "これらのステップを実行することで、Google Colab上でPythonの基本的な環境設定が完了し、DjangoとPandasの使用準備が整います。次に、Pythonの基本文法の学習やDjangoとPandasの利用方法に進むことができます。"
      ],
      "metadata": {
        "id": "fFh_Z525ED_p"
      }
    },
    {
      "cell_type": "markdown",
      "source": [
        "## Pythonの基本文法の学習と実行\n"
      ],
      "metadata": {
        "id": "O7fA0PX3ELjl"
      }
    },
    {
      "cell_type": "markdown",
      "source": [
        "\n",
        "### 1. 変数とデータ型\n",
        "Pythonでは、変数を宣言する際に型を指定する必要はありません。整数、浮動小数点数、文字列などの基本的なデータ型について学びます。\n",
        "\n"
      ],
      "metadata": {
        "id": "hahwbC0DGSre"
      }
    },
    {
      "cell_type": "code",
      "source": [
        "# 変数の宣言と基本データ型\n",
        "number = 10        # 整数\n",
        "pi = 3.14          # 浮動小数点数\n",
        "greeting = \"こんにちは\" # 文字列\n",
        "\n",
        "# 変数の値を表示\n",
        "print(number, pi, greeting)"
      ],
      "metadata": {
        "colab": {
          "base_uri": "https://localhost:8080/"
        },
        "id": "7LDa7TORGbAQ",
        "outputId": "240fa6ab-c1c1-4d86-be2e-36be72d309a6"
      },
      "execution_count": 3,
      "outputs": [
        {
          "output_type": "stream",
          "name": "stdout",
          "text": [
            "10 3.14 こんにちは\n"
          ]
        }
      ]
    },
    {
      "cell_type": "markdown",
      "source": [
        "### 2. リストと辞書\n",
        "データを格納するための基本的な構造としてリストと辞書を学びます。\n",
        "\n"
      ],
      "metadata": {
        "id": "fvV9iL3oEvF3"
      }
    },
    {
      "cell_type": "code",
      "source": [
        "# リストの作成とアクセス\n",
        "fruits = [\"りんご\", \"バナナ\", \"オレンジ\"]\n",
        "print(fruits[0])  # 最初の要素を表示\n",
        "\n",
        "# 辞書の作成とアクセス\n",
        "person = {\"名前\": \"太郎\", \"年齢\": 20}\n",
        "print(person[\"名前\"])  # キーを使って値を取得"
      ],
      "metadata": {
        "colab": {
          "base_uri": "https://localhost:8080/"
        },
        "id": "bOgGY3S3GkF3",
        "outputId": "126e1bd9-5ec6-4384-807a-3ab816b99750"
      },
      "execution_count": 4,
      "outputs": [
        {
          "output_type": "stream",
          "name": "stdout",
          "text": [
            "りんご\n",
            "太郎\n"
          ]
        }
      ]
    },
    {
      "cell_type": "markdown",
      "source": [
        "### 3. 制御構造\n",
        "基本的な制御構造（if文、forループ、whileループ）の使用方法を学びます。"
      ],
      "metadata": {
        "id": "eKp62h-ZGphF"
      }
    },
    {
      "cell_type": "code",
      "source": [
        "# if文\n",
        "age = 20\n",
        "if age >= 18:\n",
        "    print(\"成人です\")\n",
        "\n",
        "# forループ\n",
        "for fruit in fruits:\n",
        "    print(fruit)\n",
        "\n",
        "# whileループ\n",
        "i = 0\n",
        "while i < len(fruits):\n",
        "    print(fruits[i])\n",
        "    i += 1"
      ],
      "metadata": {
        "colab": {
          "base_uri": "https://localhost:8080/"
        },
        "id": "a4GJK0xDGtKi",
        "outputId": "3df6efb9-2dd4-4f12-9ccf-af015f9fd563"
      },
      "execution_count": 5,
      "outputs": [
        {
          "output_type": "stream",
          "name": "stdout",
          "text": [
            "成人です\n",
            "りんご\n",
            "バナナ\n",
            "オレンジ\n",
            "りんご\n",
            "バナナ\n",
            "オレンジ\n"
          ]
        }
      ]
    },
    {
      "cell_type": "markdown",
      "source": [
        "### 4. 関数の定義と使用\n",
        "独自の関数を定義し、引数を渡して呼び出す方法を学びます。"
      ],
      "metadata": {
        "id": "nCy1VAE6Gyt6"
      }
    },
    {
      "cell_type": "code",
      "source": [
        "# 関数の定義\n",
        "def greet(name):\n",
        "    return \"こんにちは、\" + name + \"さん！\"\n",
        "\n",
        "# 関数の呼び出し\n",
        "print(greet(\"太郎\"))"
      ],
      "metadata": {
        "id": "xXV-2vABG2Cd"
      },
      "execution_count": null,
      "outputs": []
    },
    {
      "cell_type": "markdown",
      "source": [
        "## Djangoでのウェブサイト作成の基本ステップ\n",
        "\n",
        "ここではセルの実行以外にも操作が発生します。Google Colab上でWebアプリを実行する手順を学んでいきましょう。\n",
        "\n",
        "#### 1. Djangoプロジェクトの作成\n",
        "まずはDjangoで新しいプロジェクトを作成します。このステップでは、プロジェクトの構造と必要なファイルが生成されます。"
      ],
      "metadata": {
        "id": "xgtqPaFHHJ5W"
      }
    },
    {
      "cell_type": "code",
      "source": [
        "!django-admin startproject mysite"
      ],
      "metadata": {
        "id": "pAqPmAAqHHHR"
      },
      "execution_count": 6,
      "outputs": []
    },
    {
      "cell_type": "markdown",
      "source": [
        "ファイルを確認すると、mysiteフォルダが作成されます。"
      ],
      "metadata": {
        "id": "ap3IJV9vLsw5"
      }
    },
    {
      "cell_type": "markdown",
      "source": [
        "#### 2. アプリケーションの作成\n",
        "Djangoでは、ウェブサイトは1つ以上の「アプリケーション」で構成されます。ここで簡単なアプリケーションを作成しましょう。"
      ],
      "metadata": {
        "id": "yDVl2S0xLmJ5"
      }
    },
    {
      "cell_type": "code",
      "source": [
        "!python mysite/manage.py startapp myapp\n",
        "!mv myapp mysite/myapp"
      ],
      "metadata": {
        "id": "KTkwgFSsL92U"
      },
      "execution_count": null,
      "outputs": []
    },
    {
      "cell_type": "markdown",
      "source": [
        "\n",
        "#### 3. ビューの作成\n",
        "ビューは、ユーザーに表示されるページの内容を制御します。ここで、単純なビューを作成してみましょう。\n",
        "\n",
        "`myapp/views.py` ファイルに以下のコードを追加します。\n",
        "\n",
        "```python\n",
        "from django.http import HttpResponse\n",
        "\n",
        "def home(request):\n",
        "    return HttpResponse(\"Hello, Django!\")\n",
        "```\n",
        "\n",
        "#### 4. URLの設定\n",
        "ビューをインターネット上でアクセス可能にするために、URLを設定します。\n",
        "\n",
        "`mysite/urls.py` ファイルを以下のように編集します。\n",
        "\n",
        "```python\n",
        "from django.contrib import admin\n",
        "from django.urls import path\n",
        "from myapp.views import home\n",
        "\n",
        "urlpatterns = [\n",
        "    path('admin/', admin.site.urls),\n",
        "    path('', home),\n",
        "]\n",
        "```"
      ],
      "metadata": {
        "id": "OUMcJR7JMOTt"
      }
    },
    {
      "cell_type": "markdown",
      "source": [
        "\n",
        "#### 5. ローカルサーバーの起動\n",
        "以下のコマンドでローカルサーバーを起動し、開発中のウェブサイトを表示できます。Google Colab経由でもアクセスできるように、mysite/mysite/settings.pyのALLOWED_HOSTSにサイトを追加します。\n",
        "\n",
        "```python\n",
        "ALLOWED_HOSTS = ['colab.research.google.com']\n",
        "```"
      ],
      "metadata": {
        "id": "tszV-9V-McLd"
      }
    },
    {
      "cell_type": "markdown",
      "source": [
        "\n",
        "#### 6. プロジェクトの確認\n",
        "以下のセルを実行すると、出力されたURLからアプリケーションにアクセスできます。Hello, Django!と表示されていれば成功です。"
      ],
      "metadata": {
        "id": "kmSH_7pcNQuD"
      }
    },
    {
      "cell_type": "code",
      "source": [
        "from google.colab.output import eval_js\n",
        "print(eval_js(\"google.colab.kernel.proxyPort(8000)\"))\n",
        "\n",
        "!python mysite/manage.py runserver"
      ],
      "metadata": {
        "colab": {
          "base_uri": "https://localhost:8080/",
          "height": 295
        },
        "id": "N8Jt-F08JzMf",
        "outputId": "eefc5724-424f-4c9e-f4a9-f2a3c323449b"
      },
      "execution_count": 16,
      "outputs": [
        {
          "output_type": "stream",
          "name": "stdout",
          "text": [
            "https://gr4bkbk81lt-496ff2e9c6d22116-8000-colab.googleusercontent.com/\n",
            "Watching for file changes with StatReloader\n",
            "Performing system checks...\n",
            "\n",
            "System check identified no issues (0 silenced).\n",
            "\u001b[31m\n",
            "You have 18 unapplied migration(s). Your project may not work properly until you apply the migrations for app(s): admin, auth, contenttypes, sessions.\u001b[0m\n",
            "\u001b[31mRun 'python manage.py migrate' to apply them.\u001b[0m\n",
            "January 24, 2024 - 15:50:55\n",
            "Django version 5.0.1, using settings 'mysite.settings'\n",
            "Starting development server at http://127.0.0.1:8000/\n",
            "Quit the server with CONTROL-C.\n",
            "\n",
            "[24/Jan/2024 15:51:00] \u001b[m\"GET / HTTP/1.1\" 200 14\u001b[0m\n",
            "Not Found: /favicon.ico\n",
            "[24/Jan/2024 15:51:00] \u001b[33m\"GET /favicon.ico HTTP/1.1\" 404 2221\u001b[0m\n"
          ]
        }
      ]
    },
    {
      "cell_type": "markdown",
      "source": [
        "## Pandasでの基本的なデータ操作\n",
        "\n"
      ],
      "metadata": {
        "id": "t2GvQ0CpOttK"
      }
    },
    {
      "cell_type": "markdown",
      "source": [
        "#### 1. Pandasのインポート\n",
        "まずはPandasライブラリをインポートします。"
      ],
      "metadata": {
        "id": "L9e9SaV8O4GY"
      }
    },
    {
      "cell_type": "code",
      "source": [
        "import pandas as pd"
      ],
      "metadata": {
        "id": "1ejsnsWpO-cu"
      },
      "execution_count": 17,
      "outputs": []
    },
    {
      "cell_type": "markdown",
      "source": [
        "#### 2. データの読み込み\n",
        "Pandasを使用して、CSVやExcelなどのデータファイルを読み込みます。ここでは、サンプルとしてインターネット上のCSVファイルを読み込みます。\n"
      ],
      "metadata": {
        "id": "NhnDgY7CPDYR"
      }
    },
    {
      "cell_type": "code",
      "source": [
        "url = \"https://raw.githubusercontent.com/cs109/2014_data/master/countries.csv\"\n",
        "data = pd.read_csv(url)"
      ],
      "metadata": {
        "id": "PmsIWDXXPJcL"
      },
      "execution_count": 18,
      "outputs": []
    },
    {
      "cell_type": "markdown",
      "source": [
        "#### 3. データの探索\n",
        "読み込んだデータの基本的な情報を確認します。データの先頭部分を表示したり、データの概要を確認したりします。\n"
      ],
      "metadata": {
        "id": "1RITYV7jPKSh"
      }
    },
    {
      "cell_type": "code",
      "source": [
        "# データの先頭5行を表示\n",
        "print(data.head())\n",
        "\n",
        "# データの概要\n",
        "print(data.describe())"
      ],
      "metadata": {
        "colab": {
          "base_uri": "https://localhost:8080/"
        },
        "id": "6Yxdw61ePNsD",
        "outputId": "7f499e85-cc7e-43a2-b925-a1e2f201a95d"
      },
      "execution_count": 19,
      "outputs": [
        {
          "output_type": "stream",
          "name": "stdout",
          "text": [
            "    Country  Region\n",
            "0   Algeria  AFRICA\n",
            "1    Angola  AFRICA\n",
            "2     Benin  AFRICA\n",
            "3  Botswana  AFRICA\n",
            "4   Burkina  AFRICA\n",
            "        Country  Region\n",
            "count       194     194\n",
            "unique      194       6\n",
            "top     Algeria  AFRICA\n",
            "freq          1      54\n"
          ]
        }
      ]
    },
    {
      "cell_type": "markdown",
      "source": [
        "#### 4. データの選択とフィルタリング\n",
        "特定の列や行を選択し、条件に基づいてデータをフィルタリングします。"
      ],
      "metadata": {
        "id": "EHdn5bxSPONR"
      }
    },
    {
      "cell_type": "code",
      "source": [
        "# 特定の列を選択\n",
        "countries = data['Country']\n",
        "\n",
        "# 条件に基づくフィルタリング\n",
        "european_countries = data[data['Region'] == 'EUROPE']\n",
        "\n",
        "countries, european_countries"
      ],
      "metadata": {
        "colab": {
          "base_uri": "https://localhost:8080/"
        },
        "id": "kUzHVJkMPSqm",
        "outputId": "26c1e016-ac39-4c8b-bf01-9e3415f4c4f3"
      },
      "execution_count": 23,
      "outputs": [
        {
          "output_type": "execute_result",
          "data": {
            "text/plain": [
              "(0        Algeria\n",
              " 1         Angola\n",
              " 2          Benin\n",
              " 3       Botswana\n",
              " 4        Burkina\n",
              "          ...    \n",
              " 189     Paraguay\n",
              " 190         Peru\n",
              " 191     Suriname\n",
              " 192      Uruguay\n",
              " 193    Venezuela\n",
              " Name: Country, Length: 194, dtype: object,\n",
              "                     Country  Region\n",
              " 98                  Albania  EUROPE\n",
              " 99                  Andorra  EUROPE\n",
              " 100                 Armenia  EUROPE\n",
              " 101                 Austria  EUROPE\n",
              " 102              Azerbaijan  EUROPE\n",
              " 103                 Belarus  EUROPE\n",
              " 104                 Belgium  EUROPE\n",
              " 105  Bosnia and Herzegovina  EUROPE\n",
              " 106                Bulgaria  EUROPE\n",
              " 107                 Croatia  EUROPE\n",
              " 108                  Cyprus  EUROPE\n",
              " 109          Czech Republic  EUROPE\n",
              " 110                 Denmark  EUROPE\n",
              " 111                 Estonia  EUROPE\n",
              " 112                 Finland  EUROPE\n",
              " 113                  France  EUROPE\n",
              " 114                 Georgia  EUROPE\n",
              " 115                 Germany  EUROPE\n",
              " 116                  Greece  EUROPE\n",
              " 117                 Hungary  EUROPE\n",
              " 118                 Iceland  EUROPE\n",
              " 119                 Ireland  EUROPE\n",
              " 120                   Italy  EUROPE\n",
              " 121                  Latvia  EUROPE\n",
              " 122           Liechtenstein  EUROPE\n",
              " 123               Lithuania  EUROPE\n",
              " 124              Luxembourg  EUROPE\n",
              " 125               Macedonia  EUROPE\n",
              " 126                   Malta  EUROPE\n",
              " 127                 Moldova  EUROPE\n",
              " 128                  Monaco  EUROPE\n",
              " 129              Montenegro  EUROPE\n",
              " 130             Netherlands  EUROPE\n",
              " 131                  Norway  EUROPE\n",
              " 132                  Poland  EUROPE\n",
              " 133                Portugal  EUROPE\n",
              " 134                 Romania  EUROPE\n",
              " 135              San Marino  EUROPE\n",
              " 136                  Serbia  EUROPE\n",
              " 137                Slovakia  EUROPE\n",
              " 138                Slovenia  EUROPE\n",
              " 139                   Spain  EUROPE\n",
              " 140                  Sweden  EUROPE\n",
              " 141             Switzerland  EUROPE\n",
              " 142                 Ukraine  EUROPE\n",
              " 143          United Kingdom  EUROPE\n",
              " 144            Vatican City  EUROPE)"
            ]
          },
          "metadata": {},
          "execution_count": 23
        }
      ]
    },
    {
      "cell_type": "markdown",
      "source": [
        "## 演習課題\n",
        "\n",
        "#### 1. 基本的な算術演算子を使った演習\n",
        "Pythonで基本的な算術計算を行うコードを書いてみましょう。例えば、異なる数値の加算、減算、乗算、除算を行うコードです。\n",
        "\n",
        "```python\n",
        "# 計算式を書いて出力しましょう\n",
        "print(3 + 4)\n",
        "print(10 - 5)\n",
        "print(4 * 3)\n",
        "print(8 / 2)\n",
        "```\n",
        "\n",
        "#### 2. 文字列操作の演習\n",
        "Pythonでの基本的な文字列操作を行うコードを書いてみましょう。文字列を連結したり、文字列の一部を抽出するなどです。\n",
        "\n",
        "```python\n",
        "# 文字列の連結\n",
        "greeting = \"こんにちは、\"\n",
        "name = \"太郎さん。\"\n",
        "message = greeting + name\n",
        "print(message)\n",
        "\n",
        "# 文字列の一部を抽出\n",
        "print(name[0:2])  # \"太郎\"を抽出\n",
        "```\n",
        "\n",
        "### 応用編の演習課題\n",
        "\n",
        "#### 1. Djangoでのシンプルなルーティング\n",
        "Djangoで作成したプロジェクトにおいて、新しいビューを作成し、URLにルートを設定してみましょう。\n",
        "\n",
        "```python\n",
        "# myapp/views.py に新しいビューを作成\n",
        "def about(request):\n",
        "    return HttpResponse(\"これはAboutページです。\")\n",
        "\n",
        "# mysite/urls.py に新しいURLパターンを追加\n",
        "urlpatterns = [\n",
        "    # 既存のパターンは省略\n",
        "    path('about/', about),\n",
        "]\n",
        "```\n",
        "\n",
        "#### 2. Pandasを使った簡単なデータ分析\n",
        "Pandasを使用して、インターネット上から取得したデータセットに対して基本的なデータ分析を行ってみましょう。例えば、特定の列の平均値や最大値を求めるなどです。\n",
        "\n",
        "```python\n",
        "import pandas as pd\n",
        "\n",
        "# データセットを読み込む\n",
        "url = \"https://raw.githubusercontent.com/cs109/2014_data/master/countries.csv\"\n",
        "data = pd.read_csv(url)\n",
        "\n",
        "# 'Population'列の平均値と最大値を計算\n",
        "print(\"平均人口:\", data['Population'].mean())\n",
        "print(\"最大人口:\", data['Population'].max())\n",
        "```"
      ],
      "metadata": {
        "id": "mLlFf9MLQ9KA"
      }
    },
    {
      "cell_type": "code",
      "source": [],
      "metadata": {
        "id": "KsXqHOnwRCpV"
      },
      "execution_count": null,
      "outputs": []
    }
  ]
}