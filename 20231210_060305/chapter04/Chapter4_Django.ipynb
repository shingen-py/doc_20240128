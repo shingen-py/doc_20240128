{
  "cells": [
    {
      "cell_type": "markdown",
      "metadata": {
        "id": "DRTpjDLIV7Vj"
      },
      "source": [
        "# Chapter 4 Djangoを用いたWebサイトの作成"
      ]
    },
    {
      "cell_type": "markdown",
      "metadata": {
        "id": "qkN6QpiyWJcN"
      },
      "source": [
        "## 1. Djangoの環境設定\n",
        "まずはDjangoの環境を設定します。以下のコマンドでDjangoをインストールします。\n",
        "Django は Python で Web アプリケーションを作成する場合に一番メジャーなフレームワークです。"
      ]
    },
    {
      "cell_type": "code",
      "execution_count": 1,
      "metadata": {
        "colab": {
          "base_uri": "https://localhost:8080/"
        },
        "id": "rQ-g9DCJAI-h",
        "outputId": "0a450387-17a5-48b4-98c7-204ad153fe29"
      },
      "outputs": [
        {
          "name": "stdout",
          "output_type": "stream",
          "text": [
            "Collecting django\n",
            "  Downloading Django-5.0.1-py3-none-any.whl (8.1 MB)\n",
            "\u001b[2K     \u001b[90m━━━━━━━━━━━━━━━━━━━━━━━━━━━━━━━━━━━━━━━━\u001b[0m \u001b[32m8.1/8.1 MB\u001b[0m \u001b[31m30.3 MB/s\u001b[0m eta \u001b[36m0:00:00\u001b[0m\n",
            "\u001b[?25hCollecting asgiref<4,>=3.7.0 (from django)\n",
            "  Downloading asgiref-3.7.2-py3-none-any.whl (24 kB)\n",
            "Requirement already satisfied: sqlparse>=0.3.1 in /usr/local/lib/python3.10/dist-packages (from django) (0.4.4)\n",
            "Requirement already satisfied: typing-extensions>=4 in /usr/local/lib/python3.10/dist-packages (from asgiref<4,>=3.7.0->django) (4.5.0)\n",
            "Installing collected packages: asgiref, django\n",
            "Successfully installed asgiref-3.7.2 django-5.0.1\n"
          ]
        }
      ],
      "source": [
        "# Django のインストール\n",
        "!pip install django"
      ]
    },
    {
      "cell_type": "markdown",
      "metadata": {
        "id": "UxDxN5VoWqWJ"
      },
      "source": [
        "## 2. Djangoプロジェクトの作成\n",
        "次にDjangoのプロジェクトを作成します。以下のコマンドでプロジェクトを作成します。"
      ]
    },
    {
      "cell_type": "code",
      "execution_count": 2,
      "metadata": {
        "id": "3_GnoXtuAXjv"
      },
      "outputs": [],
      "source": [
        "# Django のプロジェクト作成\n",
        "!django-admin startproject mysite"
      ]
    },
    {
      "cell_type": "markdown",
      "metadata": {
        "id": "YbEA5Co9W1ql"
      },
      "source": [
        "## 3. Djangoアプリケーションの作成\n",
        "プロジェクト内にアプリケーションを作成します。以下のコマンドでアプリケーションを作成します。"
      ]
    },
    {
      "cell_type": "code",
      "execution_count": 3,
      "metadata": {
        "id": "tD1jgMJRAf5A"
      },
      "outputs": [],
      "source": [
        "# myapp アプリケーションの作成\n",
        "!cd mysite && python manage.py startapp myapp"
      ]
    },
    {
      "cell_type": "markdown",
      "metadata": {
        "id": "R5PuGtAcW6Ep"
      },
      "source": [
        "## 3.1 Google Colab 上で Django を動かすための設定\n",
        "ALLOWD_HOSTS に colab.research.google.com を加える。この設定により google colab 上で Django アプリケーションが動作可能になる"
      ]
    },
    {
      "cell_type": "code",
      "execution_count": 4,
      "metadata": {
        "colab": {
          "base_uri": "https://localhost:8080/"
        },
        "id": "-ckqDzLzBrE7",
        "outputId": "bcc4b4c3-bd93-4e06-ce9e-3834e7a55b58"
      },
      "outputs": [
        {
          "name": "stdout",
          "output_type": "stream",
          "text": [
            "ALLOWED_HOSTS = [\"colab.research.google.com\"]\n"
          ]
        }
      ],
      "source": [
        "# Django を GoogleColab 上で動作させるための準備\n",
        "# Django のネットワークを設定する -> colab.research.google.com に設定する\n",
        "# ALLOWED_HOSTS = ['colab.research.google.com']\n",
        "!cd mysite/mysite && sed -i.bak -e 's/\\(ALLOWED_HOSTS\\).*/\\1 = [\"colab\\.research\\.google\\.com\"]/g' settings.py\n",
        "!cd mysite/mysite && grep ALLOWED_HOSTS settings.py"
      ]
    },
    {
      "cell_type": "markdown",
      "metadata": {
        "id": "tM0ldMbuXaIW"
      },
      "source": [
        "## 3.2 Google Colab 上で動作する Django アプリケーションを外部から見えるためにプロキシ設定\n",
        "\n"
      ]
    },
    {
      "cell_type": "code",
      "execution_count": 5,
      "metadata": {
        "colab": {
          "base_uri": "https://localhost:8080/",
          "height": 34
        },
        "id": "bMYdYyFsAsHt",
        "outputId": "b38634a8-b91b-45cd-cf78-85960e012573"
      },
      "outputs": [
        {
          "name": "stdout",
          "output_type": "stream",
          "text": [
            "https://c2bgel82xoh-496ff2e9c6d22116-8000-colab.googleusercontent.com/\n"
          ]
        }
      ],
      "source": [
        "# プロキシの設定\n",
        "from google.colab.output import eval_js\n",
        "print(eval_js(\"google.colab.kernel.proxyPort(8000)\"))"
      ]
    },
    {
      "cell_type": "markdown",
      "metadata": {
        "id": "NEgpowKcXsUW"
      },
      "source": [
        "## 3.3 Django アプリケーションを試す"
      ]
    },
    {
      "cell_type": "code",
      "execution_count": 6,
      "metadata": {
        "colab": {
          "base_uri": "https://localhost:8080/"
        },
        "id": "yp-VkG3uBjGw",
        "outputId": "07e50eef-bcc0-4aa5-df7a-7bf6e712079b"
      },
      "outputs": [
        {
          "name": "stdout",
          "output_type": "stream",
          "text": [
            "Watching for file changes with StatReloader\n",
            "Performing system checks...\n",
            "\n",
            "System check identified no issues (0 silenced).\n",
            "\u001b[31m\n",
            "You have 18 unapplied migration(s). Your project may not work properly until you apply the migrations for app(s): admin, auth, contenttypes, sessions.\u001b[0m\n",
            "\u001b[31mRun 'python manage.py migrate' to apply them.\u001b[0m\n",
            "January 23, 2024 - 13:01:55\n",
            "Django version 5.0.1, using settings 'mysite.settings'\n",
            "Starting development server at http://127.0.0.1:8000/\n",
            "Quit the server with CONTROL-C.\n",
            "\n",
            "[23/Jan/2024 13:01:55] \u001b[m\"GET / HTTP/1.1\" 200 10629\u001b[0m\n",
            "Not Found: /favicon.ico\n",
            "[23/Jan/2024 13:01:56] \u001b[33m\"GET /favicon.ico HTTP/1.1\" 404 2121\u001b[0m\n"
          ]
        }
      ],
      "source": [
        "# Django サーバーの起動\n",
        "!cd mysite && python manage.py runserver 8000\n",
        "# サイトが確認出来たら停止ボタンを押す。"
      ]
    },
    {
      "cell_type": "markdown",
      "metadata": {
        "id": "YuY76bnlX5Uy"
      },
      "source": [
        "## 4. データベースの設定\n",
        "今回は SQLite を使用するのでデフォルトのままにする"
      ]
    },
    {
      "cell_type": "markdown",
      "metadata": {
        "id": "hfHynHtgYIpD"
      },
      "source": [
        "## 5. ビューの作成\n",
        "DjangoでWebページを表示するためのビューを作成します。views.pyを編集します。"
      ]
    },
    {
      "cell_type": "code",
      "execution_count": 7,
      "metadata": {
        "id": "FTOZVtpNGSl0"
      },
      "outputs": [],
      "source": [
        "import os\n",
        "from pathlib import Path\n",
        "\n",
        "basedir = Path(os.getcwd())\n",
        "appdir = basedir / \"mysite\" / \"myapp\"\n",
        "configdir = basedir / \"mysite\" / \"mysite\"\n",
        "\n",
        "# views.py\n",
        "code = \"\"\"\n",
        "from django.shortcuts import render\n",
        "from .models import WeatherData\n",
        "\n",
        "def index(request):\n",
        "    data = WeatherData.objects.all()\n",
        "    return render(request, 'index.html', {'data': data})\n",
        "\n",
        "\"\"\"\n",
        "\n",
        "with open(appdir / \"views.py\", \"w\") as f:\n",
        "  f.write(code)"
      ]
    },
    {
      "cell_type": "markdown",
      "metadata": {
        "id": "ywcOSvmEYu8V"
      },
      "source": [
        "## 5.1 モデルの作成\n",
        "データベースの定義ファイルを作成する"
      ]
    },
    {
      "cell_type": "code",
      "execution_count": 8,
      "metadata": {
        "id": "Xa5HvvALGy94"
      },
      "outputs": [],
      "source": [
        "# models.py\n",
        "code = \"\"\"\n",
        "from django.db import models\n",
        "\n",
        "class WeatherData(models.Model):\n",
        "    date = models.DateField()\n",
        "    temperature = models.FloatField()\n",
        "    rainfall = models.FloatField()\n",
        "\"\"\"\n",
        "with open(appdir / \"models.py\", \"w\") as f:\n",
        "  f.write(code)"
      ]
    },
    {
      "cell_type": "markdown",
      "metadata": {
        "id": "CjU8ktitY5Jx"
      },
      "source": [
        "## 6. URLのルーティング\n",
        "URLをビューに接続します。urls.pyを編集します。"
      ]
    },
    {
      "cell_type": "code",
      "execution_count": 9,
      "metadata": {
        "id": "Cnm1uOmUG4sT"
      },
      "outputs": [],
      "source": [
        "# urls.py\n",
        "code = \"\"\"\n",
        "from django.urls import path\n",
        "from myapp import views\n",
        "\n",
        "urlpatterns = [\n",
        "    path('', views.index, name='index'),\n",
        "]\n",
        "\"\"\"\n",
        "with open(configdir / \"urls.py\", \"w\") as f:\n",
        "  f.write(code)\n"
      ]
    },
    {
      "cell_type": "markdown",
      "metadata": {
        "id": "C5a-P_hOZBzW"
      },
      "source": [
        "## 7. テンプレートの作成\n",
        "Webページの見た目を決めるテンプレートを作成します。templatesディレクトリにhtmlファイルを作成します。"
      ]
    },
    {
      "cell_type": "code",
      "execution_count": 10,
      "metadata": {
        "id": "Gsc4iVUlKX7f"
      },
      "outputs": [],
      "source": [
        "# template index.html\n",
        "(appdir / \"templates\").mkdir(exist_ok=True)\n",
        "(appdir / \"templates\" / \"myapp\").mkdir(exist_ok=True)\n",
        "\n",
        "html = \"\"\"\n",
        "<html>\n",
        " <head>\n",
        "   <link href=\"https://cdn.jsdelivr.net/npm/bootstrap@5.0.2/dist/css/bootstrap.min.css\" rel=\"stylesheet\" integrity=\"sha384-EVSTQN3/azprG1Anm3QDgpJLIm9Nao0Yz1ztcQTwFspd3yD65VohhpuuCOmLASjC\" crossorigin=\"anonymous\">\n",
        " </head>\n",
        " <body>\n",
        " <div>\n",
        "  <h1>Chapter 4 Djangoを用いたWebサイトの作成</h1>\n",
        " </div>\n",
        "  <div>\n",
        "   <table>\n",
        "    <th>\n",
        "     <tr>\n",
        "      <td>date</td>\n",
        "      <td>temperature</td>\n",
        "      <td>rainfall</td>\n",
        "     </tr>\n",
        "    </th>\n",
        "    <tb>\n",
        "     {% for i in data %}\n",
        "     <tr>\n",
        "      <td>i.date</td>\n",
        "      <td>i.temperature</td>\n",
        "      <td>i.raifall</td>\n",
        "     </tr>\n",
        "     {% endfor %}\n",
        "    </tb>\n",
        "  </table>\n",
        " </body>\n",
        "</html>\n",
        "\"\"\"\n",
        "\n",
        "with open(appdir / \"templates\" / \"index.html\", \"w\") as f:\n",
        "  f.write(html)"
      ]
    },
    {
      "cell_type": "markdown",
      "metadata": {
        "id": "aAKi22u6ZOoB"
      },
      "source": [
        "## 7.2 Django アプリケーションに作成した myapp を追加する\n",
        "Django は明示的に作成したアプリケーションを設定に反映する必要がある。"
      ]
    },
    {
      "cell_type": "code",
      "execution_count": 11,
      "metadata": {
        "id": "wZreT2LMIhKX"
      },
      "outputs": [],
      "source": [
        "# settings.py に myapp を追加する\n",
        "!cd mysite/mysite && sed -i.bak \"/INSTALLED_APPS = \\[/a \\    'myapp\\.apps\\.MyappConfig',\" settings.py"
      ]
    },
    {
      "cell_type": "markdown",
      "metadata": {
        "id": "sSUwsOMnZemh"
      },
      "source": [
        "## 7.3 データベースにモデルを反映させる"
      ]
    },
    {
      "cell_type": "code",
      "execution_count": 12,
      "metadata": {
        "colab": {
          "base_uri": "https://localhost:8080/"
        },
        "id": "DXKt4RLDIU3x",
        "outputId": "5e1c8f26-90b0-4f38-cf2b-fd63c5c5c433"
      },
      "outputs": [
        {
          "name": "stdout",
          "output_type": "stream",
          "text": [
            "\u001b[36;1mMigrations for 'myapp':\u001b[0m\n",
            "  \u001b[1mmyapp/migrations/0001_initial.py\u001b[0m\n",
            "    - Create model WeatherData\n",
            "\u001b[36;1mOperations to perform:\u001b[0m\n",
            "\u001b[1m  Apply all migrations: \u001b[0madmin, auth, contenttypes, myapp, sessions\n",
            "\u001b[36;1mRunning migrations:\u001b[0m\n",
            "  Applying contenttypes.0001_initial...\u001b[32;1m OK\u001b[0m\n",
            "  Applying auth.0001_initial...\u001b[32;1m OK\u001b[0m\n",
            "  Applying admin.0001_initial...\u001b[32;1m OK\u001b[0m\n",
            "  Applying admin.0002_logentry_remove_auto_add...\u001b[32;1m OK\u001b[0m\n",
            "  Applying admin.0003_logentry_add_action_flag_choices...\u001b[32;1m OK\u001b[0m\n",
            "  Applying contenttypes.0002_remove_content_type_name...\u001b[32;1m OK\u001b[0m\n",
            "  Applying auth.0002_alter_permission_name_max_length...\u001b[32;1m OK\u001b[0m\n",
            "  Applying auth.0003_alter_user_email_max_length...\u001b[32;1m OK\u001b[0m\n",
            "  Applying auth.0004_alter_user_username_opts...\u001b[32;1m OK\u001b[0m\n",
            "  Applying auth.0005_alter_user_last_login_null...\u001b[32;1m OK\u001b[0m\n",
            "  Applying auth.0006_require_contenttypes_0002...\u001b[32;1m OK\u001b[0m\n",
            "  Applying auth.0007_alter_validators_add_error_messages...\u001b[32;1m OK\u001b[0m\n",
            "  Applying auth.0008_alter_user_username_max_length...\u001b[32;1m OK\u001b[0m\n",
            "  Applying auth.0009_alter_user_last_name_max_length...\u001b[32;1m OK\u001b[0m\n",
            "  Applying auth.0010_alter_group_name_max_length...\u001b[32;1m OK\u001b[0m\n",
            "  Applying auth.0011_update_proxy_permissions...\u001b[32;1m OK\u001b[0m\n",
            "  Applying auth.0012_alter_user_first_name_max_length...\u001b[32;1m OK\u001b[0m\n",
            "  Applying myapp.0001_initial...\u001b[32;1m OK\u001b[0m\n",
            "  Applying sessions.0001_initial...\u001b[32;1m OK\u001b[0m\n"
          ]
        }
      ],
      "source": [
        "!cd mysite && python manage.py makemigrations myapp\n",
        "!cd mysite && python manage.py migrate"
      ]
    },
    {
      "cell_type": "markdown",
      "metadata": {
        "id": "hPlFmz4wZvUK"
      },
      "source": [
        "## 8. Djangoサーバーの起動\n",
        "最後にDjangoのサーバーを起動して、Webサイトが正しく動作するか確認します。"
      ]
    },
    {
      "cell_type": "code",
      "execution_count": null,
      "metadata": {
        "colab": {
          "base_uri": "https://localhost:8080/"
        },
        "id": "6KUWqlRbZt0X",
        "outputId": "1ef0c879-6e45-429f-a53e-8b472fb44ec4"
      },
      "outputs": [
        {
          "name": "stdout",
          "output_type": "stream",
          "text": [
            "Watching for file changes with StatReloader\n",
            "Performing system checks...\n",
            "\n",
            "System check identified no issues (0 silenced).\n",
            "January 23, 2024 - 13:02:52\n",
            "Django version 5.0.1, using settings 'mysite.settings'\n",
            "Starting development server at http://127.0.0.1:8000/\n",
            "Quit the server with CONTROL-C.\n",
            "\n",
            "[23/Jan/2024 13:02:54] \u001b[m\"GET / HTTP/1.1\" 200 506\u001b[0m\n",
            "Not Found: /favicon.ico\n",
            "[23/Jan/2024 13:02:55] \u001b[33m\"GET /favicon.ico HTTP/1.1\" 404 2129\u001b[0m\n"
          ]
        }
      ],
      "source": [
        "# Django サーバーの起動\n",
        "!cd mysite && python manage.py runserver 8000"
      ]
    },
    {
      "cell_type": "markdown",
      "metadata": {},
      "source": []
    }
  ],
  "metadata": {
    "colab": {
      "provenance": []
    },
    "kernelspec": {
      "display_name": "Python 3",
      "name": "python3"
    },
    "language_info": {
      "name": "python"
    }
  },
  "nbformat": 4,
  "nbformat_minor": 0
}
