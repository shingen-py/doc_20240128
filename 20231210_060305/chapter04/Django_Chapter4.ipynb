{
  "nbformat": 4,
  "nbformat_minor": 0,
  "metadata": {
    "colab": {
      "provenance": []
    },
    "kernelspec": {
      "name": "python3",
      "display_name": "Python 3"
    },
    "language_info": {
      "name": "python"
    }
  },
  "cells": [
    {
      "cell_type": "markdown",
      "source": [
        "# Chapter 4 Djangoを用いたWebサイトの作成"
      ],
      "metadata": {
        "id": "DRTpjDLIV7Vj"
      }
    },
    {
      "cell_type": "markdown",
      "source": [
        "## 1. Djangoの環境設定\n",
        "まずはDjangoの環境を設定します。以下のコマンドでDjangoをインストールします。\n",
        "Django は Python で Web アプリケーションを作成する場合に一番メジャーなフレームワークです。"
      ],
      "metadata": {
        "id": "qkN6QpiyWJcN"
      }
    },
    {
      "cell_type": "code",
      "execution_count": 1,
      "metadata": {
        "colab": {
          "base_uri": "https://localhost:8080/"
        },
        "id": "rQ-g9DCJAI-h",
        "outputId": "86fed66a-300f-4f00-ce3d-40a7f53cf0da"
      },
      "outputs": [
        {
          "output_type": "stream",
          "name": "stdout",
          "text": [
            "Collecting django\n",
            "  Downloading Django-5.0.1-py3-none-any.whl (8.1 MB)\n",
            "\u001b[2K     \u001b[90m━━━━━━━━━━━━━━━━━━━━━━━━━━━━━━━━━━━━━━━━\u001b[0m \u001b[32m8.1/8.1 MB\u001b[0m \u001b[31m27.9 MB/s\u001b[0m eta \u001b[36m0:00:00\u001b[0m\n",
            "\u001b[?25hCollecting asgiref<4,>=3.7.0 (from django)\n",
            "  Downloading asgiref-3.7.2-py3-none-any.whl (24 kB)\n",
            "Requirement already satisfied: sqlparse>=0.3.1 in /usr/local/lib/python3.10/dist-packages (from django) (0.4.4)\n",
            "Requirement already satisfied: typing-extensions>=4 in /usr/local/lib/python3.10/dist-packages (from asgiref<4,>=3.7.0->django) (4.5.0)\n",
            "Installing collected packages: asgiref, django\n",
            "Successfully installed asgiref-3.7.2 django-5.0.1\n"
          ]
        }
      ],
      "source": [
        "# Django のインストール\n",
        "!pip install django"
      ]
    },
    {
      "cell_type": "markdown",
      "source": [
        "## 2. Djangoプロジェクトの作成\n",
        "次にDjangoのプロジェクトを作成します。以下のコマンドでプロジェクトを作成します。"
      ],
      "metadata": {
        "id": "UxDxN5VoWqWJ"
      }
    },
    {
      "cell_type": "code",
      "source": [
        "# Django のプロジェクト作成\n",
        "!django-admin startproject mysite"
      ],
      "metadata": {
        "id": "3_GnoXtuAXjv"
      },
      "execution_count": 2,
      "outputs": []
    },
    {
      "cell_type": "markdown",
      "source": [
        "## 3. Djangoアプリケーションの作成\n",
        "プロジェクト内にアプリケーションを作成します。以下のコマンドでアプリケーションを作成します。"
      ],
      "metadata": {
        "id": "YbEA5Co9W1ql"
      }
    },
    {
      "cell_type": "code",
      "source": [
        "# myapp アプリケーションの作成\n",
        "!cd mysite && python manage.py startapp myapp"
      ],
      "metadata": {
        "id": "tD1jgMJRAf5A"
      },
      "execution_count": 3,
      "outputs": []
    },
    {
      "cell_type": "markdown",
      "source": [
        "## 3.1 Google Colab 上で Django を動かすための設定\n",
        "ALLOWD_HOSTS に colab.research.google.com を加える。この設定により google colab 上で Django アプリケーションが動作可能になる"
      ],
      "metadata": {
        "id": "R5PuGtAcW6Ep"
      }
    },
    {
      "cell_type": "code",
      "source": [
        "# Django を GoogleColab 上で動作させるための準備\n",
        "# Django のネットワークを設定する -> colab.research.google.com に設定する\n",
        "# ALLOWED_HOSTS = ['colab.research.google.com']\n",
        "!cd mysite/mysite && sed -i.bak -e 's/\\(ALLOWED_HOSTS\\).*/\\1 = [\"colab\\.research\\.google\\.com\"]/g' settings.py\n",
        "!cd mysite/mysite && grep ALLOWED_HOSTS settings.py"
      ],
      "metadata": {
        "colab": {
          "base_uri": "https://localhost:8080/"
        },
        "id": "-ckqDzLzBrE7",
        "outputId": "595b9481-0156-412c-f209-e15eecbfe5ee"
      },
      "execution_count": 4,
      "outputs": [
        {
          "output_type": "stream",
          "name": "stdout",
          "text": [
            "ALLOWED_HOSTS = [\"colab.research.google.com\"]\n"
          ]
        }
      ]
    },
    {
      "cell_type": "markdown",
      "source": [
        "## 3.2 Google Colab 上で動作する Django アプリケーションを外部から見えるためにプロキシ設定\n",
        "\n"
      ],
      "metadata": {
        "id": "tM0ldMbuXaIW"
      }
    },
    {
      "cell_type": "code",
      "source": [
        "# プロキシの設定\n",
        "from google.colab.output import eval_js\n",
        "print(eval_js(\"google.colab.kernel.proxyPort(8000)\"))"
      ],
      "metadata": {
        "colab": {
          "base_uri": "https://localhost:8080/",
          "height": 34
        },
        "id": "bMYdYyFsAsHt",
        "outputId": "94859bc3-1469-424f-faae-3cb1c6fee7ba"
      },
      "execution_count": 5,
      "outputs": [
        {
          "output_type": "stream",
          "name": "stdout",
          "text": [
            "https://9no5k3kzojt-496ff2e9c6d22116-8000-colab.googleusercontent.com/\n"
          ]
        }
      ]
    },
    {
      "cell_type": "markdown",
      "source": [
        "## 3.3 Django アプリケーションを試す"
      ],
      "metadata": {
        "id": "NEgpowKcXsUW"
      }
    },
    {
      "cell_type": "code",
      "source": [
        "# Django サーバーの起動\n",
        "!cd mysite && python manage.py runserver 8000\n",
        "# サイトが確認出来たら停止ボタンを押す。"
      ],
      "metadata": {
        "colab": {
          "base_uri": "https://localhost:8080/"
        },
        "id": "yp-VkG3uBjGw",
        "outputId": "07e50eef-bcc0-4aa5-df7a-7bf6e712079b"
      },
      "execution_count": null,
      "outputs": [
        {
          "output_type": "stream",
          "name": "stdout",
          "text": [
            "Watching for file changes with StatReloader\n",
            "Performing system checks...\n",
            "\n",
            "System check identified no issues (0 silenced).\n",
            "\u001b[31m\n",
            "You have 18 unapplied migration(s). Your project may not work properly until you apply the migrations for app(s): admin, auth, contenttypes, sessions.\u001b[0m\n",
            "\u001b[31mRun 'python manage.py migrate' to apply them.\u001b[0m\n",
            "January 23, 2024 - 13:01:55\n",
            "Django version 5.0.1, using settings 'mysite.settings'\n",
            "Starting development server at http://127.0.0.1:8000/\n",
            "Quit the server with CONTROL-C.\n",
            "\n",
            "[23/Jan/2024 13:01:55] \u001b[m\"GET / HTTP/1.1\" 200 10629\u001b[0m\n",
            "Not Found: /favicon.ico\n",
            "[23/Jan/2024 13:01:56] \u001b[33m\"GET /favicon.ico HTTP/1.1\" 404 2121\u001b[0m\n"
          ]
        }
      ]
    },
    {
      "cell_type": "markdown",
      "source": [
        "## 4. データベースの設定\n",
        "今回は SQLite を使用するのでデフォルトのままにする"
      ],
      "metadata": {
        "id": "YuY76bnlX5Uy"
      }
    },
    {
      "cell_type": "markdown",
      "source": [
        "settings.py のデータベースの設定項目は以下。\n",
        "現状は SQLite3 を使用する方法になっている。\n",
        "```\n",
        "DATABASES = {\n",
        "    'default': {\n",
        "        'ENGINE': 'django.db.backends.sqlite3',\n",
        "        'NAME': BASE_DIR / 'db.sqlite3',\n",
        "    }\n",
        "}\n",
        "```\n",
        "例えば PostgreSQL を使用する場合は以下のような感じになる。\n",
        "※ 下記は仮の値になっているため、必要な値は適当に追加する。\n",
        "```\n",
        "DATABASES = {\n",
        "    'default': {\n",
        "        'ENGINE': 'django.db.backends.postgresql_psycopg2',\n",
        "        'NAME': 'dbname',\n",
        "        'USER': 'username',\n",
        "        'PASSWORD': 'password',\n",
        "        'HOST': 'localhost',\n",
        "        'PORT': '',\n",
        "    }\n",
        "}\n",
        "```\n",
        "\n",
        "\n",
        "\n"
      ],
      "metadata": {
        "id": "VEGFTWAWq13e"
      }
    },
    {
      "cell_type": "markdown",
      "source": [
        "## 5. ビューの作成\n",
        "DjangoでWebページを表示するためのビューを作成します。views.pyを編集します。"
      ],
      "metadata": {
        "id": "hfHynHtgYIpD"
      }
    },
    {
      "cell_type": "markdown",
      "source": [
        "views は表示のための前処理をする\n",
        "\n",
        "\n",
        "主にデータベースからデータの取得、整理などを行う。\n",
        "\n",
        "ユーザからリクエスト (request) を受け取り、データの取得を行い Django のテンプレートシステムへ渡す。"
      ],
      "metadata": {
        "id": "clRE_eiNrsCV"
      }
    },
    {
      "cell_type": "code",
      "source": [
        "# 変数等設定。\n",
        "import os\n",
        "from pathlib import Path\n",
        "\n",
        "basedir = Path(os.getcwd())\n",
        "appdir = basedir / \"mysite\" / \"myapp\"\n",
        "configdir = basedir / \"mysite\" / \"mysite\"\n",
        "\n",
        "# views.py\n",
        "code = \"\"\"\n",
        "from django.shortcuts import render\n",
        "from .models import WeatherData\n",
        "\n",
        "def index(request):\n",
        "    data = WeatherData.objects.all()\n",
        "    return render(request, 'index.html', {'data': data})\n",
        "\n",
        "\"\"\"\n",
        "\n",
        "with open(appdir / \"views.py\", \"w\") as f:\n",
        "  f.write(code)"
      ],
      "metadata": {
        "id": "FTOZVtpNGSl0"
      },
      "execution_count": 6,
      "outputs": []
    },
    {
      "cell_type": "markdown",
      "source": [
        "## 5.1 モデルの作成\n",
        "データベースの定義ファイルを作成する"
      ],
      "metadata": {
        "id": "ywcOSvmEYu8V"
      }
    },
    {
      "cell_type": "markdown",
      "source": [
        "models.py はデータベース定義のファイル。\n",
        "Django は ORM という機能があり、class を書くようにデータベースの定義をすることができる。"
      ],
      "metadata": {
        "id": "hf8xyP5js6z-"
      }
    },
    {
      "cell_type": "code",
      "source": [
        "# models.py\n",
        "code = \"\"\"\n",
        "from django.db import models\n",
        "\n",
        "class WeatherData(models.Model):\n",
        "    date = models.DateField()\n",
        "    temperature = models.FloatField()\n",
        "    rainfall = models.FloatField()\n",
        "\"\"\"\n",
        "with open(appdir / \"models.py\", \"w\") as f:\n",
        "  f.write(code)"
      ],
      "metadata": {
        "id": "Xa5HvvALGy94"
      },
      "execution_count": 7,
      "outputs": []
    },
    {
      "cell_type": "markdown",
      "source": [
        "## 6. URLのルーティング\n",
        "URLをビューに接続します。urls.pyを編集します。"
      ],
      "metadata": {
        "id": "CjU8ktitY5Jx"
      }
    },
    {
      "cell_type": "markdown",
      "source": [
        "urls.py はルーティングを定義するファイル。\n",
        "\n",
        "ユーザがアクセスした URL に対して、対応したビューを返す役目。"
      ],
      "metadata": {
        "id": "Pzdo9SOwtSKn"
      }
    },
    {
      "cell_type": "code",
      "source": [
        "# urls.py\n",
        "code = \"\"\"\n",
        "from django.urls import path\n",
        "from myapp import views\n",
        "\n",
        "urlpatterns = [\n",
        "    path('', views.index, name='index'),\n",
        "]\n",
        "\"\"\"\n",
        "with open(configdir / \"urls.py\", \"w\") as f:\n",
        "  f.write(code)\n"
      ],
      "metadata": {
        "id": "Cnm1uOmUG4sT"
      },
      "execution_count": 13,
      "outputs": []
    },
    {
      "cell_type": "markdown",
      "source": [
        "## 7. テンプレートの作成\n",
        "Webページの見た目を決めるテンプレートを作成します。templatesディレクトリにhtmlファイルを作成します。"
      ],
      "metadata": {
        "id": "C5a-P_hOZBzW"
      }
    },
    {
      "cell_type": "markdown",
      "source": [
        "テンプレートシステムは views から受け取ったデータを html としてユーザに返却する仕組み"
      ],
      "metadata": {
        "id": "ZPVzbvtvuFBo"
      }
    },
    {
      "cell_type": "code",
      "source": [
        "# template index.html\n",
        "(appdir / \"templates\").mkdir(exist_ok=True)\n",
        "(appdir / \"templates\" / \"myapp\").mkdir(exist_ok=True)\n",
        "\n",
        "html = \"\"\"\n",
        "<html>\n",
        " <head>\n",
        "   <link href=\"https://cdn.jsdelivr.net/npm/bootstrap@5.0.2/dist/css/bootstrap.min.css\" rel=\"stylesheet\" integrity=\"sha384-EVSTQN3/azprG1Anm3QDgpJLIm9Nao0Yz1ztcQTwFspd3yD65VohhpuuCOmLASjC\" crossorigin=\"anonymous\">\n",
        " </head>\n",
        " <body>\n",
        " <div>\n",
        "  <h1>Chapter 4 Djangoを用いたWebサイトの作成</h1>\n",
        " </div>\n",
        "  <div>\n",
        "   <table class=\"table\">\n",
        "    <th>\n",
        "     <tr>\n",
        "      <td>date</td>\n",
        "      <td>temperature</td>\n",
        "      <td>rainfall</td>\n",
        "     </tr>\n",
        "    </th>\n",
        "    <tb>\n",
        "     {% for i in data %}\n",
        "     <tr>\n",
        "      <td>{{ i.date }}</td>\n",
        "      <td>{{ i.temperature }}</td>\n",
        "      <td>{{ i.rainfall }}</td>\n",
        "     </tr>\n",
        "     {% endfor %}\n",
        "    </tb>\n",
        "  </table>\n",
        " </body>\n",
        "</html>\n",
        "\"\"\"\n",
        "\n",
        "with open(appdir / \"templates\" / \"index.html\", \"w\") as f:\n",
        "  f.write(html)"
      ],
      "metadata": {
        "id": "Gsc4iVUlKX7f"
      },
      "execution_count": 24,
      "outputs": []
    },
    {
      "cell_type": "markdown",
      "source": [
        "## 7.2 Django アプリケーションに作成した myapp を追加する\n",
        "Django は明示的に作成したアプリケーションを設定に反映する必要がある。"
      ],
      "metadata": {
        "id": "aAKi22u6ZOoB"
      }
    },
    {
      "cell_type": "markdown",
      "source": [
        "明示的にアプリケーションを追加する仕組みにより、Django のアプリケーションはモジュール化が可能になります。\n",
        "知らない人が作ったアプリケーションを追加したりなど、逆に自分が作ったアプリケーションを他人に共有することが容易になっている。\n",
        "\n",
        "参考: https://djangopackages.org/"
      ],
      "metadata": {
        "id": "8KigLHxUuRvL"
      }
    },
    {
      "cell_type": "code",
      "source": [
        "# settings.py に myapp を追加する\n",
        "!cd mysite/mysite && sed -i.bak \"/INSTALLED_APPS = \\[/a \\    'myapp\\.apps\\.MyappConfig',\" settings.py"
      ],
      "metadata": {
        "id": "wZreT2LMIhKX"
      },
      "execution_count": 10,
      "outputs": []
    },
    {
      "cell_type": "markdown",
      "source": [
        "## 7.3 データベースにモデルを反映させる"
      ],
      "metadata": {
        "id": "sSUwsOMnZemh"
      }
    },
    {
      "cell_type": "markdown",
      "source": [
        "Django は models.py を書いただけではデータが入らない。明示的にアプリケーションを指定してデータベースを書き込む。\n",
        "\n",
        "makemigrations で models.py から中間ファイルを出力し\n",
        "migrate で models.py の内容を反映させる。"
      ],
      "metadata": {
        "id": "yjAJGdd_uwek"
      }
    },
    {
      "cell_type": "code",
      "source": [
        "!cd mysite && python manage.py makemigrations myapp\n",
        "!cd mysite && python manage.py migrate"
      ],
      "metadata": {
        "colab": {
          "base_uri": "https://localhost:8080/"
        },
        "id": "DXKt4RLDIU3x",
        "outputId": "de09c246-5df3-46fc-d991-01ac446e444f"
      },
      "execution_count": 11,
      "outputs": [
        {
          "output_type": "stream",
          "name": "stdout",
          "text": [
            "\u001b[36;1mMigrations for 'myapp':\u001b[0m\n",
            "  \u001b[1mmyapp/migrations/0001_initial.py\u001b[0m\n",
            "    - Create model WeatherData\n",
            "\u001b[36;1mOperations to perform:\u001b[0m\n",
            "\u001b[1m  Apply all migrations: \u001b[0madmin, auth, contenttypes, myapp, sessions\n",
            "\u001b[36;1mRunning migrations:\u001b[0m\n",
            "  Applying contenttypes.0001_initial...\u001b[32;1m OK\u001b[0m\n",
            "  Applying auth.0001_initial...\u001b[32;1m OK\u001b[0m\n",
            "  Applying admin.0001_initial...\u001b[32;1m OK\u001b[0m\n",
            "  Applying admin.0002_logentry_remove_auto_add...\u001b[32;1m OK\u001b[0m\n",
            "  Applying admin.0003_logentry_add_action_flag_choices...\u001b[32;1m OK\u001b[0m\n",
            "  Applying contenttypes.0002_remove_content_type_name...\u001b[32;1m OK\u001b[0m\n",
            "  Applying auth.0002_alter_permission_name_max_length...\u001b[32;1m OK\u001b[0m\n",
            "  Applying auth.0003_alter_user_email_max_length...\u001b[32;1m OK\u001b[0m\n",
            "  Applying auth.0004_alter_user_username_opts...\u001b[32;1m OK\u001b[0m\n",
            "  Applying auth.0005_alter_user_last_login_null...\u001b[32;1m OK\u001b[0m\n",
            "  Applying auth.0006_require_contenttypes_0002...\u001b[32;1m OK\u001b[0m\n",
            "  Applying auth.0007_alter_validators_add_error_messages...\u001b[32;1m OK\u001b[0m\n",
            "  Applying auth.0008_alter_user_username_max_length...\u001b[32;1m OK\u001b[0m\n",
            "  Applying auth.0009_alter_user_last_name_max_length...\u001b[32;1m OK\u001b[0m\n",
            "  Applying auth.0010_alter_group_name_max_length...\u001b[32;1m OK\u001b[0m\n",
            "  Applying auth.0011_update_proxy_permissions...\u001b[32;1m OK\u001b[0m\n",
            "  Applying auth.0012_alter_user_first_name_max_length...\u001b[32;1m OK\u001b[0m\n",
            "  Applying myapp.0001_initial...\u001b[32;1m OK\u001b[0m\n",
            "  Applying sessions.0001_initial...\u001b[32;1m OK\u001b[0m\n"
          ]
        }
      ]
    },
    {
      "cell_type": "markdown",
      "source": [
        "## 8. Djangoサーバーの起動\n",
        "最後にDjangoのサーバーを起動して、Webサイトが正しく動作するか確認します。"
      ],
      "metadata": {
        "id": "hPlFmz4wZvUK"
      }
    },
    {
      "cell_type": "code",
      "source": [
        "# Django サーバーの起動\n",
        "!cd mysite && python manage.py runserver 8000"
      ],
      "metadata": {
        "colab": {
          "base_uri": "https://localhost:8080/"
        },
        "id": "6KUWqlRbZt0X",
        "outputId": "a65c2e11-1de8-48e5-a3f6-d2c2d5f873b8"
      },
      "execution_count": 25,
      "outputs": [
        {
          "output_type": "stream",
          "name": "stdout",
          "text": [
            "Watching for file changes with StatReloader\n",
            "Performing system checks...\n",
            "\n",
            "System check identified no issues (0 silenced).\n",
            "January 26, 2024 - 08:00:37\n",
            "Django version 5.0.1, using settings 'mysite.settings'\n",
            "Starting development server at http://127.0.0.1:8000/\n",
            "Quit the server with CONTROL-C.\n",
            "\n",
            "[26/Jan/2024 08:00:38] \u001b[m\"GET / HTTP/1.1\" 200 616\u001b[0m\n",
            "Not Found: /favicon.ico\n",
            "[26/Jan/2024 08:00:38] \u001b[33m\"GET /favicon.ico HTTP/1.1\" 404 2129\u001b[0m\n"
          ]
        }
      ]
    },
    {
      "cell_type": "code",
      "source": [
        "import sys\n",
        "import os\n",
        "import django\n",
        "os.environ[\"DJANGO_ALLOW_ASYNC_UNSAFE\"] = \"true\"\n",
        "\n",
        "\n",
        "sys.path.append(str(basedir / \"mysite\"))\n",
        "os.environ.setdefault(\"DJANGO_SETTINGS_MODULE\",\"mysite.settings\")\n",
        "\n",
        "django.setup()\n",
        "\n",
        "from myapp.models import WeatherData\n",
        "\n",
        "data = WeatherData(date=\"2023-01-01\", temperature=25.5, rainfall=100)\n",
        "data.save()"
      ],
      "metadata": {
        "id": "HPS1JrX6xJfD"
      },
      "execution_count": 18,
      "outputs": []
    }
  ]
}