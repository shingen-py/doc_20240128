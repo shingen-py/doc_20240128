{
  "nbformat": 4,
  "nbformat_minor": 0,
  "metadata": {
    "colab": {
      "provenance": []
    },
    "kernelspec": {
      "name": "python3",
      "display_name": "Python 3"
    },
    "language_info": {
      "name": "python"
    }
  },
  "cells": [
    {
      "cell_type": "markdown",
      "source": [
        "# Chapter 2 山梨県の気象データの取得と前処理\n",
        "\n",
        "Pandasはデータの分析や操作を容易に行う機能を提供するPythonライブラリです\n",
        "\n",
        "この教材ではPandasを使用して、山梨県の気象データを取得し、前処理を行います。\n",
        "\n",
        "データの取得方法、データの読み込み、欠損値の処理、データ型の変換、列の選択という一連のデータ前処理の流れを学びます。"
      ],
      "metadata": {
        "id": "7sie0NB1Adse"
      }
    },
    {
      "cell_type": "markdown",
      "source": [
        "## 1. データ取得\n",
        "\n",
        "まずは山梨県の気象データを取得します。データの取得は、Web上からダウンロードする方法やAPIを使用する方法などがあります。この教材では、気象庁の「過去の気象データ・ダウンロード」からCSVをダウンロードしてデータを取得します。\n",
        "\n",
        "気象庁|過去の気象データ・ダウンロード\n",
        "- https://www.data.jma.go.jp/risk/obsdl/index.php\n",
        "\n",
        "![capture01](https://github.com/yuukis/yuukis.github.io/assets/2931035/0821c252-ed78-44b7-8427-f7c89461849f)\n",
        "\n",
        "今回は例として、以下の項目を選択して2023年の日別の気象データをダウンロードします。\n",
        "  - 「地点を選ぶ」で「山梨」を選択後、「甲府」を選択\n",
        "  - 「項目を選ぶ」で以下の項目を選択\n",
        "    - 「データの種類」で「日別値」を選択\n",
        "    - 「気温」をクリック後、下記の項目を選択\n",
        "      - 日平均気温\n",
        "      - 日最高気温\n",
        "      - 日最低気温\n",
        "    - 「降水」をクリック後、下記の項目を選択\n",
        "      - 降水量の日合計\n",
        "    - 「日照/日射」をクリック後、下記の項目を選択\n",
        "      - 日照時間\n",
        "    - 「雲量/天気」をクリック後、下記の項目を選択\n",
        "      - 天気概況（昼：06時～18時）c\n",
        "  - 「期間を選ぶ」で「連続した期間で表示する」を選択後、下記の範囲を指定\n",
        "    - 2023年1月1日から2023年12月31日まで の日別値を表示\n",
        "  - 「表示オプションを選ぶ」で以下の項目を選択\n",
        "    - 利用上注意が必要なデータの扱い\n",
        "      - 値を表示(格納)しない。\n",
        "    - 観測環境などの変化の前後で、値が不均質となったデータの扱い\n",
        "      - 観測環境などの変化前の値を表示(格納)しない。\n",
        "    - ダウンロードCSVファイルのデータ仕様\n",
        "      - すべて数値で格納(現象あり・なし情報、品質情報は数値で格納)\n",
        "        - 日付リテラルで格納\n",
        "  - 「CSVファイルをダウンロード」をクリック\n",
        "    - 「画面に表示」を選択して内容を確認してからダウンロードも可能\n",
        "\n",
        "ダウンロードした CSV ファイルは、data.csv というファイル名で保存されます。\n",
        "\n",
        "このCSVファイルを Colaboratory 画面内の「ファイル」にドラッグアンドドロップしてアップロードします。\n",
        "\n",
        "![capture02](https://github.com/yuukis/yuukis.github.io/assets/2931035/9dbb8e29-02ae-49cc-a3d8-2f3cd5c526d1)"
      ],
      "metadata": {
        "id": "GnYRPsP4Bnhv"
      }
    },
    {
      "cell_type": "markdown",
      "source": [
        "## 2. データ読み込み\n",
        "\n",
        "取得したデータをPandasのDataFrameとして読み込みます。\n",
        "\n",
        "PandasはCSV、テキストファイル、Excel、SQLデータベース等、各種のデータ形式をサポートしています。この教材ではCSV形式のデータを読み込みます。"
      ],
      "metadata": {
        "id": "Mwzu7RBOCTvo"
      }
    },
    {
      "cell_type": "markdown",
      "source": [
        "まずは pandas ライブラリをインストールします。"
      ],
      "metadata": {
        "id": "1HcF7RTYhF6V"
      }
    },
    {
      "cell_type": "code",
      "source": [
        "!pip install pandas"
      ],
      "metadata": {
        "id": "Q2Rvx-XU5e0f"
      },
      "execution_count": null,
      "outputs": []
    },
    {
      "cell_type": "markdown",
      "source": [],
      "metadata": {
        "id": "SL7pxOP-auz6"
      }
    },
    {
      "cell_type": "markdown",
      "source": [
        "インストールした pandas ライブラリをインポートし、data.csv を指定して読み込みます。\n",
        "\n",
        "CSVファイルを読み込む際、エラーにならないよう文字コードは Shift JIS を指定します。"
      ],
      "metadata": {
        "id": "j87TnTgphSjd"
      }
    },
    {
      "cell_type": "code",
      "source": [
        "import pandas as pd\n",
        "\n",
        "# CSVファイルの読み込み\n",
        "df = pd.read_csv('data.csv', encoding='shift_jis')\n",
        "\n",
        "# 確認のため、読み込み結果の先頭10行を表示する\n",
        "df.head(10)"
      ],
      "metadata": {
        "id": "bsbREo1cf708"
      },
      "execution_count": null,
      "outputs": []
    },
    {
      "cell_type": "markdown",
      "source": [
        "尚、CSVファイルの上の方の行が解析などに不要な場合、skiprowsでそれをスキップすることもできます。`skiprows` でスキップしたい行数を指定します。"
      ],
      "metadata": {
        "id": "mwt1RsfygTnM"
      }
    },
    {
      "cell_type": "code",
      "source": [
        "import pandas as pd\n",
        "\n",
        "# CSVファイルの読み込み\n",
        "# skiprows=3: CSVファイルの先頭から3行の読み込みをスキップする\n",
        "df = pd.read_csv('data.csv', encoding='shift_jis', skiprows=3)\n",
        "\n",
        "# 確認のため、読み込み結果の先頭10行を表示する\n",
        "df.head(10)"
      ],
      "metadata": {
        "id": "9tOAffr0EEGN"
      },
      "execution_count": null,
      "outputs": []
    },
    {
      "cell_type": "markdown",
      "source": [
        "列の先頭に 0 から始まるインデックスが付与されています。\n",
        "\n",
        "解析を容易にするため、年月日のデータをインデックス列に指定して読み込みます。"
      ],
      "metadata": {
        "id": "9X7JR7l-prv9"
      }
    },
    {
      "cell_type": "code",
      "source": [
        "import pandas as pd\n",
        "\n",
        "# CSVファイルの読み込み\n",
        "# index_col=0: 最初の列をインデックスとして指定する\n",
        "df = pd.read_csv('data.csv', encoding='shift_jis', skiprows=3, index_col=0)\n",
        "\n",
        "# 確認のため、読み込み結果の先頭10行を表示する\n",
        "df.head(10)"
      ],
      "metadata": {
        "id": "2QSD31VVpa7C"
      },
      "execution_count": null,
      "outputs": []
    },
    {
      "cell_type": "markdown",
      "source": [
        "## 3. データの確認\n",
        "\n",
        "データが正しく読み込まれたことを確認します。また、データの概観を把握するために各列のデータ型や欠損値の有無を確認します。"
      ],
      "metadata": {
        "id": "CIhXu4DbDIY6"
      }
    },
    {
      "cell_type": "code",
      "source": [
        "# 読み込んだデータの要約を確認する\n",
        "print(df.info())"
      ],
      "metadata": {
        "id": "gt401F8YELSH"
      },
      "execution_count": null,
      "outputs": []
    },
    {
      "cell_type": "markdown",
      "source": [
        "## 4. 欠損値処理\n",
        "\n",
        "データに欠損値(NaN)が存在する場合、その処理方法を決定します。欠損値の処理方法には、欠損値を含む行や列を削除する方法や、欠損値を特定の値で補完する方法などがあります。"
      ],
      "metadata": {
        "id": "M6Qxce7FDf5y"
      }
    },
    {
      "cell_type": "code",
      "source": [
        "# 欠損値があれば削除する\n",
        "df = df.dropna()\n",
        "\n",
        "# 確認のため、読み込み結果の先頭10行を表示する\n",
        "df.head(10)"
      ],
      "metadata": {
        "id": "-QrBaRiFEcGk"
      },
      "execution_count": null,
      "outputs": []
    },
    {
      "cell_type": "markdown",
      "source": [
        "## 5. データ型の変換\n",
        "\n",
        "必要に応じて列のデータ型を変換します。例えば、日付や時間を表す列が文字列型である場合、これを日付型や時間型に変換するなどです。"
      ],
      "metadata": {
        "id": "zpd8Z8rtDsrn"
      }
    },
    {
      "cell_type": "code",
      "source": [
        "# 年月日の操作を行いやすくするため、インデックスである年月日の列をdatetime形式に変換する\n",
        "df.index = pd.to_datetime(df.index)\n",
        "\n",
        "# 確認のため、読み込み結果の先頭10行を表示する\n",
        "df.head(10)"
      ],
      "metadata": {
        "id": "k3hGsV6zEfM3"
      },
      "execution_count": null,
      "outputs": []
    },
    {
      "cell_type": "markdown",
      "source": [
        "## 6. 列の選択\n",
        "\n",
        "分析に必要な列を選択します。不要な列はこの段階で除去します。"
      ],
      "metadata": {
        "id": "eS9GuCnhD2xc"
      }
    },
    {
      "cell_type": "code",
      "source": [
        "# 平均気温(℃)の列を選択する\n",
        "df = df[['平均気温(℃)']]\n",
        "\n",
        "# 確認のため、読み込み結果の先頭10行を表示する\n",
        "df.head(10)"
      ],
      "metadata": {
        "id": "GHJ_u5asEiOy"
      },
      "execution_count": null,
      "outputs": []
    },
    {
      "cell_type": "markdown",
      "source": [
        "## 課題\n",
        "\n",
        "1. 気象庁の「過去の気象データ・ダウンロード」から他のデータをダウンロードし、データの読み込みや欠損値の処理、データ型変換、列の選択を試してみましょう\n",
        "2. Pandas の DataFrame には他にも便利なメソッドが様々提供されています。[公式リファレンス](https://pandas.pydata.org/docs/reference/frame.html)等を参考に、他のメソッドも実行してみましょう"
      ],
      "metadata": {
        "id": "olbC0diHbV3o"
      }
    }
  ]
}